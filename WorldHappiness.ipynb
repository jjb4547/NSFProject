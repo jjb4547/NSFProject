{
 "cells": [
  {
   "cell_type": "code",
   "execution_count": 835,
   "id": "513ffbe1",
   "metadata": {},
   "outputs": [
    {
     "data": {
      "text/markdown": [
       "# Hello World!"
      ],
      "text/plain": [
       "<IPython.core.display.Markdown object>"
      ]
     },
     "metadata": {},
     "output_type": "display_data"
    },
    {
     "name": "stdout",
     "output_type": "stream",
     "text": [
      "Country                          303\n",
      "Region                           150\n",
      "Happiness Rank                     0\n",
      "Happiness Score                    0\n",
      "GDP Per Capita                     0\n",
      "Family                           303\n",
      "Health (Life Expectancy)           0\n",
      "Freedom                            0\n",
      "Trust (Government Corruption)      1\n",
      "Generosity                         0\n",
      "Dystopia Residual                303\n",
      "Year                               0\n",
      "dtype: int64\n"
     ]
    }
   ],
   "source": [
    "import pandas as pd\n",
    "import matplotlib.pyplot as plt\n",
    "import seaborn as sns\n",
    "import numpy as np\n",
    "from sklearn import preprocessing\n",
    "from sklearn.linear_model import LinearRegression\n",
    "from scipy.stats import linregress as LR\n",
    "from sklearn.model_selection import train_test_split\n",
    "from sklearn.metrics import mean_squared_error\n",
    "from IPython.display import display, Markdown\n",
    "\n",
    "dataset = pd.read_csv('dataset_world_happiness.csv')\n",
    "print(dataset.isnull().sum())"
   ]
  },
  {
   "cell_type": "code",
   "execution_count": 763,
   "id": "86c01f4c",
   "metadata": {},
   "outputs": [],
   "source": [
    "# break up data by years\n",
    "def separateYears(data,year):\n",
    "    if(year>2015):\n",
    "        return data.loc[data['Year']==year].reset_index()\n",
    "    else:\n",
    "        return data.loc[data['Year']==year]"
   ]
  },
  {
   "cell_type": "code",
   "execution_count": 764,
   "id": "91b4f91e",
   "metadata": {},
   "outputs": [
    {
     "name": "stdout",
     "output_type": "stream",
     "text": [
      "Country                          0\n",
      "Region                           0\n",
      "Happiness Rank                   0\n",
      "Happiness Score                  0\n",
      "GDP Per Capita                   0\n",
      "Family                           0\n",
      "Health (Life Expectancy)         0\n",
      "Freedom                          0\n",
      "Trust (Government Corruption)    0\n",
      "Generosity                       0\n",
      "Dystopia Residual                0\n",
      "dtype: int64\n"
     ]
    }
   ],
   "source": [
    "# 2015\n",
    "dataset_2015 = separateYears(dataset, 2015) \n",
    "dataset_2015.pop('Year')\n",
    "print(dataset_2015.isnull().sum())"
   ]
  },
  {
   "cell_type": "code",
   "execution_count": 765,
   "id": "be4d9bf9",
   "metadata": {},
   "outputs": [
    {
     "name": "stdout",
     "output_type": "stream",
     "text": [
      "Country                          0\n",
      "Region                           0\n",
      "Happiness Rank                   0\n",
      "Happiness Score                  0\n",
      "GDP Per Capita                   0\n",
      "Family                           0\n",
      "Health (Life Expectancy)         0\n",
      "Freedom                          0\n",
      "Trust (Government Corruption)    0\n",
      "Generosity                       0\n",
      "Dystopia Residual                0\n",
      "dtype: int64\n"
     ]
    }
   ],
   "source": [
    "# 2016\n",
    "dataset_2016 = separateYears(dataset,2016)\n",
    "dataset_2016.drop('index', inplace=True, axis=1)\n",
    "dataset_2016.pop('Year')\n",
    "print(dataset_2016.isnull().sum())"
   ]
  },
  {
   "cell_type": "code",
   "execution_count": 766,
   "id": "91700793",
   "metadata": {},
   "outputs": [
    {
     "name": "stdout",
     "output_type": "stream",
     "text": [
      "Country                            0\n",
      "Region                           150\n",
      "Happiness Rank                     0\n",
      "Happiness Score                    0\n",
      "GDP Per Capita                     0\n",
      "Family                             0\n",
      "Health (Life Expectancy)           0\n",
      "Freedom                            0\n",
      "Trust (Government Corruption)      0\n",
      "Generosity                         0\n",
      "Dystopia Residual                  0\n",
      "dtype: int64\n"
     ]
    }
   ],
   "source": [
    "# 2017\n",
    "dataset_2017 = separateYears(dataset,2017)\n",
    "dataset_2017.drop('index', inplace=True, axis=1)\n",
    "dataset_2017.pop('Year')\n",
    "print(dataset_2017.isnull().sum())"
   ]
  },
  {
   "cell_type": "code",
   "execution_count": 767,
   "id": "ad5c0218",
   "metadata": {},
   "outputs": [
    {
     "name": "stdout",
     "output_type": "stream",
     "text": [
      "       Country Region  Happiness Rank  Happiness Score  GDP Per Capita  \\\n",
      "0       Norway    NaN               1            7.537        1.616463   \n",
      "1      Denmark    NaN               2            7.522        1.482383   \n",
      "2      Iceland    NaN               3            7.504        1.480633   \n",
      "3  Switzerland    NaN               4            7.494        1.564980   \n",
      "4      Finland    NaN               5            7.469        1.443572   \n",
      "\n",
      "     Family  Health (Life Expectancy)   Freedom  \\\n",
      "0  1.533524                  0.796667  0.635423   \n",
      "1  1.551122                  0.792566  0.626007   \n",
      "2  1.610574                  0.833552  0.627163   \n",
      "3  1.516912                  0.858131  0.620071   \n",
      "4  1.540247                  0.809158  0.617951   \n",
      "\n",
      "   Trust (Government Corruption)  Generosity  Dystopia Residual  \n",
      "0                       0.315964    0.362012           2.277027  \n",
      "1                       0.400770    0.355280           2.313707  \n",
      "2                       0.153527    0.475540           2.322715  \n",
      "3                       0.367007    0.290549           2.276716  \n",
      "4                       0.382612    0.245483           2.430182  \n"
     ]
    }
   ],
   "source": [
    "print(dataset_2017.head())"
   ]
  },
  {
   "cell_type": "code",
   "execution_count": 768,
   "id": "e757f20a",
   "metadata": {},
   "outputs": [
    {
     "name": "stdout",
     "output_type": "stream",
     "text": [
      "Before\n",
      "Country                          149\n",
      "Region                             0\n",
      "Happiness Rank                     0\n",
      "Happiness Score                    0\n",
      "GDP Per Capita                     0\n",
      "Family                           149\n",
      "Health (Life Expectancy)           0\n",
      "Freedom                            0\n",
      "Trust (Government Corruption)      1\n",
      "Generosity                         0\n",
      "Dystopia Residual                149\n",
      "dtype: int64\n"
     ]
    }
   ],
   "source": [
    "#2018\n",
    "dataset_2018 = separateYears(dataset,2018)\n",
    "dataset_2018.pop('Year')\n",
    "dataset_2018.drop('index', inplace=True, axis=1)\n",
    "print(\"Before\")\n",
    "print(dataset_2018.isnull().sum())"
   ]
  },
  {
   "cell_type": "code",
   "execution_count": 769,
   "id": "66fbaeb2",
   "metadata": {},
   "outputs": [
    {
     "name": "stdout",
     "output_type": "stream",
     "text": [
      "  Country       Region  Happiness Rank  Happiness Score  GDP Per Capita  \\\n",
      "0     NaN      Finland               1            7.632           1.305   \n",
      "1     NaN      Denmark               3            7.555           1.351   \n",
      "2     NaN      Iceland               4            7.495           1.343   \n",
      "3     NaN  Switzerland               5            7.487           1.420   \n",
      "4     NaN  Netherlands               6            7.441           1.361   \n",
      "\n",
      "   Family  Health (Life Expectancy)  Freedom  Trust (Government Corruption)  \\\n",
      "0     NaN                     0.874    0.681                          0.393   \n",
      "1     NaN                     0.868    0.683                          0.408   \n",
      "2     NaN                     0.914    0.677                          0.138   \n",
      "3     NaN                     0.927    0.660                          0.357   \n",
      "4     NaN                     0.878    0.638                          0.295   \n",
      "\n",
      "   Generosity  Dystopia Residual  \n",
      "0       0.202                NaN  \n",
      "1       0.284                NaN  \n",
      "2       0.353                NaN  \n",
      "3       0.256                NaN  \n",
      "4       0.333                NaN  \n"
     ]
    }
   ],
   "source": [
    "print(dataset_2018.head())"
   ]
  },
  {
   "cell_type": "code",
   "execution_count": 770,
   "id": "ad7d922c",
   "metadata": {},
   "outputs": [
    {
     "name": "stdout",
     "output_type": "stream",
     "text": [
      "\n",
      "After\n",
      "Country                            0\n",
      "Region                             0\n",
      "Happiness Rank                     0\n",
      "Happiness Score                    0\n",
      "GDP Per Capita                     0\n",
      "Family                           149\n",
      "Health (Life Expectancy)           0\n",
      "Freedom                            0\n",
      "Trust (Government Corruption)      1\n",
      "Generosity                         0\n",
      "Dystopia Residual                149\n",
      "dtype: int64\n"
     ]
    }
   ],
   "source": [
    "dataset_2018.Country.fillna(dataset_2018.Region, inplace=True)\n",
    "print(\"\\nAfter\")\n",
    "print(dataset_2018.isnull().sum())"
   ]
  },
  {
   "cell_type": "code",
   "execution_count": 771,
   "id": "ff81129a",
   "metadata": {},
   "outputs": [
    {
     "name": "stdout",
     "output_type": "stream",
     "text": [
      "       Country       Region  Happiness Rank  Happiness Score  GDP Per Capita  \\\n",
      "0      Finland      Finland               1            7.632           1.305   \n",
      "1      Denmark      Denmark               3            7.555           1.351   \n",
      "2      Iceland      Iceland               4            7.495           1.343   \n",
      "3  Switzerland  Switzerland               5            7.487           1.420   \n",
      "4  Netherlands  Netherlands               6            7.441           1.361   \n",
      "\n",
      "   Family  Health (Life Expectancy)  Freedom  Trust (Government Corruption)  \\\n",
      "0     NaN                     0.874    0.681                          0.393   \n",
      "1     NaN                     0.868    0.683                          0.408   \n",
      "2     NaN                     0.914    0.677                          0.138   \n",
      "3     NaN                     0.927    0.660                          0.357   \n",
      "4     NaN                     0.878    0.638                          0.295   \n",
      "\n",
      "   Generosity  Dystopia Residual  \n",
      "0       0.202                NaN  \n",
      "1       0.284                NaN  \n",
      "2       0.353                NaN  \n",
      "3       0.256                NaN  \n",
      "4       0.333                NaN  \n"
     ]
    }
   ],
   "source": [
    "print(dataset_2018.head())"
   ]
  },
  {
   "cell_type": "code",
   "execution_count": 772,
   "id": "a8db75a6",
   "metadata": {},
   "outputs": [
    {
     "name": "stdout",
     "output_type": "stream",
     "text": [
      "Before\n",
      "Country                          154\n",
      "Region                             0\n",
      "Happiness Rank                     0\n",
      "Happiness Score                    0\n",
      "GDP Per Capita                     0\n",
      "Family                           154\n",
      "Health (Life Expectancy)           0\n",
      "Freedom                            0\n",
      "Trust (Government Corruption)      0\n",
      "Generosity                         0\n",
      "Dystopia Residual                154\n",
      "dtype: int64\n"
     ]
    }
   ],
   "source": [
    "# 2019\n",
    "dataset_2019 = separateYears(dataset,2019)\n",
    "dataset_2019.drop('index', inplace=True, axis=1)\n",
    "dataset_2019.pop('Year')\n",
    "print(\"Before\")\n",
    "print(dataset_2019.isnull().sum())"
   ]
  },
  {
   "cell_type": "code",
   "execution_count": 773,
   "id": "a1d1d0ab",
   "metadata": {},
   "outputs": [
    {
     "name": "stdout",
     "output_type": "stream",
     "text": [
      "  Country       Region  Happiness Rank  Happiness Score  GDP Per Capita  \\\n",
      "0     NaN      Finland               1            7.769           1.340   \n",
      "1     NaN      Denmark               2            7.600           1.383   \n",
      "2     NaN       Norway               3            7.554           1.488   \n",
      "3     NaN      Iceland               4            7.494           1.380   \n",
      "4     NaN  Netherlands               5            7.488           1.396   \n",
      "\n",
      "   Family  Health (Life Expectancy)  Freedom  Trust (Government Corruption)  \\\n",
      "0     NaN                     0.986    0.596                          0.393   \n",
      "1     NaN                     0.996    0.592                          0.410   \n",
      "2     NaN                     1.028    0.603                          0.341   \n",
      "3     NaN                     1.026    0.591                          0.118   \n",
      "4     NaN                     0.999    0.557                          0.298   \n",
      "\n",
      "   Generosity  Dystopia Residual  \n",
      "0       0.153                NaN  \n",
      "1       0.252                NaN  \n",
      "2       0.271                NaN  \n",
      "3       0.354                NaN  \n",
      "4       0.322                NaN  \n"
     ]
    }
   ],
   "source": [
    "print(dataset_2019.head())"
   ]
  },
  {
   "cell_type": "code",
   "execution_count": 774,
   "id": "abf3d91f",
   "metadata": {},
   "outputs": [
    {
     "name": "stdout",
     "output_type": "stream",
     "text": [
      "\n",
      "After\n",
      "Country                            0\n",
      "Region                             0\n",
      "Happiness Rank                     0\n",
      "Happiness Score                    0\n",
      "GDP Per Capita                     0\n",
      "Family                           154\n",
      "Health (Life Expectancy)           0\n",
      "Freedom                            0\n",
      "Trust (Government Corruption)      0\n",
      "Generosity                         0\n",
      "Dystopia Residual                154\n",
      "dtype: int64\n"
     ]
    }
   ],
   "source": [
    "dataset_2019.Country.fillna(dataset_2019.Region, inplace=True)\n",
    "print(\"\\nAfter\")\n",
    "print(dataset_2019.isnull().sum())"
   ]
  },
  {
   "cell_type": "code",
   "execution_count": 775,
   "id": "1964a572",
   "metadata": {},
   "outputs": [
    {
     "name": "stdout",
     "output_type": "stream",
     "text": [
      "       Country       Region  Happiness Rank  Happiness Score  GDP Per Capita  \\\n",
      "0      Finland      Finland               1            7.769           1.340   \n",
      "1      Denmark      Denmark               2            7.600           1.383   \n",
      "2       Norway       Norway               3            7.554           1.488   \n",
      "3      Iceland      Iceland               4            7.494           1.380   \n",
      "4  Netherlands  Netherlands               5            7.488           1.396   \n",
      "\n",
      "   Family  Health (Life Expectancy)  Freedom  Trust (Government Corruption)  \\\n",
      "0     NaN                     0.986    0.596                          0.393   \n",
      "1     NaN                     0.996    0.592                          0.410   \n",
      "2     NaN                     1.028    0.603                          0.341   \n",
      "3     NaN                     1.026    0.591                          0.118   \n",
      "4     NaN                     0.999    0.557                          0.298   \n",
      "\n",
      "   Generosity  Dystopia Residual  \n",
      "0       0.153                NaN  \n",
      "1       0.252                NaN  \n",
      "2       0.271                NaN  \n",
      "3       0.354                NaN  \n",
      "4       0.322                NaN  \n"
     ]
    }
   ],
   "source": [
    "print(dataset_2019.head())"
   ]
  },
  {
   "cell_type": "code",
   "execution_count": 776,
   "id": "9597a38a",
   "metadata": {},
   "outputs": [],
   "source": [
    "# Merging 2015 and 2016 (Call temp)\n",
    "temp = pd.merge(dataset_2015, dataset_2016, on = 'Country')\n",
    "temp.rename(columns = {'Region_x' : 'Region',\n",
    "                      'Happiness Rank_x' : 'Happiness Rank_2015',\n",
    "                      'Happiness Score_x' : 'Happiness Score_2015',\n",
    "                      'GDP Per Capita_x':'GDP Per Capita_2015',\n",
    "                      'Family_x':'Family_2015',\n",
    "                      'Health (Life Expectancy)_x':'Health (Life Expectancy)_2015',\n",
    "                      'Freedom_x':'Freedom_2015',\n",
    "                      'Trust (Government Corruption)_x':'Trust (Government Corruption)_2015',\n",
    "                      'Generosity_x':'Generosity_2015',\n",
    "                      'Dystopia Residual_x':'Dystopia Residual_2015',\n",
    "                      'Region_y' : 'Region_2016',\n",
    "                      'Happiness Rank_y' : 'Happiness Rank_2016',\n",
    "                      'Happiness Score_y' : 'Happiness Score_2016',\n",
    "                      'GDP Per Capita_y':'GDP Per Capita_2016',\n",
    "                      'Family_y':'Family_2016',\n",
    "                      'Health (Life Expectancy)_y':'Health (Life Expectancy)_2016',\n",
    "                      'Freedom_y':'Freedom_2016',\n",
    "                      'Trust (Government Corruption)_y':'Trust (Government Corruption)_2016',\n",
    "                      'Generosity_y':'Generosity_2016',\n",
    "                      'Dystopia Residual_y':'Dystopia Residual_2016'}, inplace = True)"
   ]
  },
  {
   "cell_type": "code",
   "execution_count": 777,
   "id": "d9ca98f3",
   "metadata": {},
   "outputs": [],
   "source": [
    "# Merging 2015,2016 with 2017\n",
    "temp2 = pd.merge(temp, dataset_2017,on = 'Country')\n",
    "temp2.drop('Region_y', inplace =True, axis =1)"
   ]
  },
  {
   "cell_type": "code",
   "execution_count": 778,
   "id": "7990d985",
   "metadata": {},
   "outputs": [],
   "source": [
    "# Merging 2015-2017 with 2018\n",
    "temp3 = pd.merge(temp2, dataset_2018,on = 'Country')\n",
    "temp3.drop('Region', inplace =True, axis =1)\n",
    "temp3.drop('Region_2016', inplace =True, axis =1)\n",
    "temp3.rename(columns = {'Happiness Rank_x' : 'Happiness Rank_2017',\n",
    "                      'Happiness Score_x' : 'Happiness Score_2017',\n",
    "                      'GDP Per Capita_x':'GDP Per Capita_2017',\n",
    "                      'Family_x':'Family_2017',\n",
    "                      'Health (Life Expectancy)_x':'Health (Life Expectancy)_2017',\n",
    "                      'Freedom_x':'Freedom_2017',\n",
    "                      'Trust (Government Corruption)_x':'Trust (Government Corruption)_2017',\n",
    "                      'Generosity_x':'Generosity_2017',\n",
    "                      'Dystopia Residual_x':'Dystopia Residual_2017',\n",
    "                      'Happiness Rank_y' : 'Happiness Rank_2018',\n",
    "                      'Happiness Score_y' : 'Happiness Score_2018',\n",
    "                      'GDP Per Capita_y':'GDP Per Capita_2018',\n",
    "                      'Family_y':'Family_2018',\n",
    "                      'Health (Life Expectancy)_y':'Health (Life Expectancy)_2018',\n",
    "                      'Freedom_y':'Freedom_2018',\n",
    "                      'Trust (Government Corruption)_y':'Trust (Government Corruption)_2018',\n",
    "                      'Generosity_y':'Generosity_2018',\n",
    "                      'Dystopia Residual_y':'Dystopia Residual_2018'}, inplace = True)"
   ]
  },
  {
   "cell_type": "code",
   "execution_count": 779,
   "id": "3c2ad4eb",
   "metadata": {},
   "outputs": [],
   "source": [
    "# Merging 2015-2018 with 2019\n",
    "newData = pd.merge(temp3,dataset_2019,on = 'Country')\n",
    "newData.drop('Region', inplace =True, axis =1)\n",
    "newData.rename(columns = {'Happiness Rank_x' : 'Happiness Rank_2018',\n",
    "                      'Happiness Score_x' : 'Happiness Score_2018',\n",
    "                      'GDP Per Capita_x':'GDP Per Capita_2018',\n",
    "                      'Family_x':'Family_2018',\n",
    "                      'Health (Life Expectancy)_x':'Health (Life Expectancy)_2018',\n",
    "                      'Freedom_x':'Freedom_2017',\n",
    "                      'Trust (Government Corruption)_x':'Trust (Government Corruption)_2018',\n",
    "                      'Generosity_x':'Generosity_2018',\n",
    "                      'Dystopia Residual_x':'Dystopia Residual_2018',\n",
    "                      'Happiness Rank' : 'Happiness Rank_2019',\n",
    "                      'Happiness Score' : 'Happiness Score_2019',\n",
    "                      'GDP Per Capita':'GDP Per Capita_2019',\n",
    "                      'Family':'Family_2019',\n",
    "                      'Health (Life Expectancy)':'Health (Life Expectancy)_2019',\n",
    "                      'Freedom':'Freedom_2019',\n",
    "                      'Trust (Government Corruption)':'Trust (Government Corruption)_2019',\n",
    "                      'Generosity':'Generosity_2019',\n",
    "                      'Dystopia Residual':'Dystopia Residual_2019',\n",
    "                       'Region_x':'Region'}, inplace = True)"
   ]
  },
  {
   "cell_type": "code",
   "execution_count": 780,
   "id": "e733ed51",
   "metadata": {},
   "outputs": [],
   "source": [
    "# Filling in the NaN with the averages of previous years\n",
    "newData['Family_2018'] = newData[['Family_2015', 'Family_2016','Family_2017']].mean(axis=1)\n",
    "newData['Family_2019'] = newData[['Family_2015', 'Family_2016','Family_2017','Family_2018']].mean(axis=1)\n",
    "newData['Dystopia Residual_2018'] = newData[['Dystopia Residual_2015', 'Dystopia Residual_2016','Dystopia Residual_2017']].mean(axis=1)\n",
    "newData['Dystopia Residual_2019'] = newData[['Dystopia Residual_2015', 'Dystopia Residual_2016','Dystopia Residual_2017','Dystopia Residual_2018']].mean(axis=1)"
   ]
  },
  {
   "cell_type": "code",
   "execution_count": 781,
   "id": "702bcbae",
   "metadata": {},
   "outputs": [
    {
     "data": {
      "text/html": [
       "<div>\n",
       "<style scoped>\n",
       "    .dataframe tbody tr th:only-of-type {\n",
       "        vertical-align: middle;\n",
       "    }\n",
       "\n",
       "    .dataframe tbody tr th {\n",
       "        vertical-align: top;\n",
       "    }\n",
       "\n",
       "    .dataframe thead th {\n",
       "        text-align: right;\n",
       "    }\n",
       "</style>\n",
       "<table border=\"1\" class=\"dataframe\">\n",
       "  <thead>\n",
       "    <tr style=\"text-align: right;\">\n",
       "      <th></th>\n",
       "      <th>Country</th>\n",
       "      <th>Region</th>\n",
       "      <th>Happiness Rank_2015</th>\n",
       "      <th>Happiness Score_2015</th>\n",
       "      <th>GDP Per Capita_2015</th>\n",
       "      <th>Family_2015</th>\n",
       "      <th>Health (Life Expectancy)_2015</th>\n",
       "      <th>Freedom_2015</th>\n",
       "      <th>Trust (Government Corruption)_2015</th>\n",
       "      <th>Generosity_2015</th>\n",
       "      <th>...</th>\n",
       "      <th>Dystopia Residual_2018</th>\n",
       "      <th>Happiness Rank_2019</th>\n",
       "      <th>Happiness Score_2019</th>\n",
       "      <th>GDP Per Capita_2019</th>\n",
       "      <th>Family_2019</th>\n",
       "      <th>Health (Life Expectancy)_2019</th>\n",
       "      <th>Freedom_2019</th>\n",
       "      <th>Trust (Government Corruption)_2019</th>\n",
       "      <th>Generosity_2019</th>\n",
       "      <th>Dystopia Residual_2019</th>\n",
       "    </tr>\n",
       "  </thead>\n",
       "  <tbody>\n",
       "    <tr>\n",
       "      <th>0</th>\n",
       "      <td>Switzerland</td>\n",
       "      <td>Western Europe</td>\n",
       "      <td>1</td>\n",
       "      <td>7.587</td>\n",
       "      <td>1.39651</td>\n",
       "      <td>1.34951</td>\n",
       "      <td>0.94143</td>\n",
       "      <td>0.66557</td>\n",
       "      <td>0.41978</td>\n",
       "      <td>0.29678</td>\n",
       "      <td>...</td>\n",
       "      <td>2.496242</td>\n",
       "      <td>6</td>\n",
       "      <td>7.480</td>\n",
       "      <td>1.452</td>\n",
       "      <td>1.337221</td>\n",
       "      <td>1.052</td>\n",
       "      <td>0.572</td>\n",
       "      <td>0.343</td>\n",
       "      <td>0.263</td>\n",
       "      <td>2.496242</td>\n",
       "    </tr>\n",
       "    <tr>\n",
       "      <th>1</th>\n",
       "      <td>Iceland</td>\n",
       "      <td>Western Europe</td>\n",
       "      <td>2</td>\n",
       "      <td>7.561</td>\n",
       "      <td>1.30232</td>\n",
       "      <td>1.40223</td>\n",
       "      <td>0.94784</td>\n",
       "      <td>0.62877</td>\n",
       "      <td>0.14145</td>\n",
       "      <td>0.43630</td>\n",
       "      <td>...</td>\n",
       "      <td>2.618698</td>\n",
       "      <td>4</td>\n",
       "      <td>7.494</td>\n",
       "      <td>1.380</td>\n",
       "      <td>1.398688</td>\n",
       "      <td>1.026</td>\n",
       "      <td>0.591</td>\n",
       "      <td>0.118</td>\n",
       "      <td>0.354</td>\n",
       "      <td>2.618698</td>\n",
       "    </tr>\n",
       "    <tr>\n",
       "      <th>2</th>\n",
       "      <td>Denmark</td>\n",
       "      <td>Western Europe</td>\n",
       "      <td>3</td>\n",
       "      <td>7.527</td>\n",
       "      <td>1.32548</td>\n",
       "      <td>1.36058</td>\n",
       "      <td>0.87464</td>\n",
       "      <td>0.64938</td>\n",
       "      <td>0.48357</td>\n",
       "      <td>0.34139</td>\n",
       "      <td>...</td>\n",
       "      <td>2.515046</td>\n",
       "      <td>2</td>\n",
       "      <td>7.600</td>\n",
       "      <td>1.383</td>\n",
       "      <td>1.358481</td>\n",
       "      <td>0.996</td>\n",
       "      <td>0.592</td>\n",
       "      <td>0.410</td>\n",
       "      <td>0.252</td>\n",
       "      <td>2.515046</td>\n",
       "    </tr>\n",
       "    <tr>\n",
       "      <th>3</th>\n",
       "      <td>Canada</td>\n",
       "      <td>North America</td>\n",
       "      <td>5</td>\n",
       "      <td>7.427</td>\n",
       "      <td>1.32629</td>\n",
       "      <td>1.32261</td>\n",
       "      <td>0.90563</td>\n",
       "      <td>0.63297</td>\n",
       "      <td>0.32957</td>\n",
       "      <td>0.45811</td>\n",
       "      <td>...</td>\n",
       "      <td>2.447958</td>\n",
       "      <td>9</td>\n",
       "      <td>7.278</td>\n",
       "      <td>1.365</td>\n",
       "      <td>1.300020</td>\n",
       "      <td>1.039</td>\n",
       "      <td>0.584</td>\n",
       "      <td>0.308</td>\n",
       "      <td>0.285</td>\n",
       "      <td>2.447958</td>\n",
       "    </tr>\n",
       "    <tr>\n",
       "      <th>4</th>\n",
       "      <td>Finland</td>\n",
       "      <td>Western Europe</td>\n",
       "      <td>6</td>\n",
       "      <td>7.406</td>\n",
       "      <td>1.29025</td>\n",
       "      <td>1.31826</td>\n",
       "      <td>0.88911</td>\n",
       "      <td>0.64169</td>\n",
       "      <td>0.41372</td>\n",
       "      <td>0.23351</td>\n",
       "      <td>...</td>\n",
       "      <td>2.625231</td>\n",
       "      <td>1</td>\n",
       "      <td>7.769</td>\n",
       "      <td>1.340</td>\n",
       "      <td>1.331049</td>\n",
       "      <td>0.986</td>\n",
       "      <td>0.596</td>\n",
       "      <td>0.393</td>\n",
       "      <td>0.153</td>\n",
       "      <td>2.625231</td>\n",
       "    </tr>\n",
       "  </tbody>\n",
       "</table>\n",
       "<p>5 rows × 47 columns</p>\n",
       "</div>"
      ],
      "text/plain": [
       "       Country          Region  Happiness Rank_2015  Happiness Score_2015  \\\n",
       "0  Switzerland  Western Europe                    1                 7.587   \n",
       "1      Iceland  Western Europe                    2                 7.561   \n",
       "2      Denmark  Western Europe                    3                 7.527   \n",
       "3       Canada   North America                    5                 7.427   \n",
       "4      Finland  Western Europe                    6                 7.406   \n",
       "\n",
       "   GDP Per Capita_2015  Family_2015  Health (Life Expectancy)_2015  \\\n",
       "0              1.39651      1.34951                        0.94143   \n",
       "1              1.30232      1.40223                        0.94784   \n",
       "2              1.32548      1.36058                        0.87464   \n",
       "3              1.32629      1.32261                        0.90563   \n",
       "4              1.29025      1.31826                        0.88911   \n",
       "\n",
       "   Freedom_2015  Trust (Government Corruption)_2015  Generosity_2015  ...  \\\n",
       "0       0.66557                             0.41978          0.29678  ...   \n",
       "1       0.62877                             0.14145          0.43630  ...   \n",
       "2       0.64938                             0.48357          0.34139  ...   \n",
       "3       0.63297                             0.32957          0.45811  ...   \n",
       "4       0.64169                             0.41372          0.23351  ...   \n",
       "\n",
       "   Dystopia Residual_2018  Happiness Rank_2019  Happiness Score_2019  \\\n",
       "0                2.496242                    6                 7.480   \n",
       "1                2.618698                    4                 7.494   \n",
       "2                2.515046                    2                 7.600   \n",
       "3                2.447958                    9                 7.278   \n",
       "4                2.625231                    1                 7.769   \n",
       "\n",
       "   GDP Per Capita_2019  Family_2019  Health (Life Expectancy)_2019  \\\n",
       "0                1.452     1.337221                          1.052   \n",
       "1                1.380     1.398688                          1.026   \n",
       "2                1.383     1.358481                          0.996   \n",
       "3                1.365     1.300020                          1.039   \n",
       "4                1.340     1.331049                          0.986   \n",
       "\n",
       "   Freedom_2019  Trust (Government Corruption)_2019  Generosity_2019  \\\n",
       "0         0.572                               0.343            0.263   \n",
       "1         0.591                               0.118            0.354   \n",
       "2         0.592                               0.410            0.252   \n",
       "3         0.584                               0.308            0.285   \n",
       "4         0.596                               0.393            0.153   \n",
       "\n",
       "   Dystopia Residual_2019  \n",
       "0                2.496242  \n",
       "1                2.618698  \n",
       "2                2.515046  \n",
       "3                2.447958  \n",
       "4                2.625231  \n",
       "\n",
       "[5 rows x 47 columns]"
      ]
     },
     "execution_count": 781,
     "metadata": {},
     "output_type": "execute_result"
    }
   ],
   "source": [
    "# Filling in the NaN in Trust by averaging the previous years\n",
    "uae = newData.loc[newData['Country']=='United Arab Emirates']\n",
    "avg_uae=uae[['Trust (Government Corruption)_2015','Trust (Government Corruption)_2016','Trust (Government Corruption)_2017','Trust (Government Corruption)_2019']].mean(axis=1)\n",
    "newData.loc[17,'Trust (Government Corruption)_2018']=avg_uae.loc[17]\n",
    "newData.to_csv('data.csv')\n",
    "newData.head()"
   ]
  },
  {
   "cell_type": "code",
   "execution_count": 782,
   "id": "390ac524",
   "metadata": {},
   "outputs": [],
   "source": [
    "columns = ['Country','Region','Happiness Rank','Happiness Score','GDP Per Capita','Family','HLE','Freedom','Trust','Generosity','Dystopia Residual']\n",
    "data2015 = newData[['Country','Region','Happiness Rank_2015','Happiness Score_2015','GDP Per Capita_2015','Family_2015','Health (Life Expectancy)_2015','Freedom_2015','Trust (Government Corruption)_2015','Generosity_2015','Dystopia Residual_2015']]\n",
    "data2015.columns = columns\n",
    "data2015 = data2015.assign(Year=2015)"
   ]
  },
  {
   "cell_type": "code",
   "execution_count": 783,
   "id": "6b2a3288",
   "metadata": {},
   "outputs": [],
   "source": [
    "data2016 = newData[['Country','Region','Happiness Rank_2016','Happiness Score_2016','GDP Per Capita_2016','Family_2016','Health (Life Expectancy)_2016','Freedom_2016','Trust (Government Corruption)_2016','Generosity_2016','Dystopia Residual_2016']]\n",
    "data2016.columns = columns\n",
    "data2016 = data2016.assign(Year=2016)"
   ]
  },
  {
   "cell_type": "code",
   "execution_count": 784,
   "id": "1ce85836",
   "metadata": {},
   "outputs": [],
   "source": [
    "data2017 = newData[['Country','Region','Happiness Rank_2017','Happiness Score_2017','GDP Per Capita_2017','Family_2017','Health (Life Expectancy)_2017','Freedom_2017','Trust (Government Corruption)_2017','Generosity_2017','Dystopia Residual_2017']]\n",
    "data2017.columns = columns\n",
    "data2017 = data2017.assign(Year=2017)"
   ]
  },
  {
   "cell_type": "code",
   "execution_count": 785,
   "id": "e88edd34",
   "metadata": {},
   "outputs": [],
   "source": [
    "data2018 = newData[['Country','Region','Happiness Rank_2018','Happiness Score_2018','GDP Per Capita_2018','Family_2018','Health (Life Expectancy)_2018','Freedom_2018','Trust (Government Corruption)_2018','Generosity_2018','Dystopia Residual_2018']]\n",
    "data2018.columns = columns\n",
    "data2018 = data2018.assign(Year=2018)"
   ]
  },
  {
   "cell_type": "code",
   "execution_count": 786,
   "id": "42cb51e2",
   "metadata": {},
   "outputs": [],
   "source": [
    "data2019 = newData[['Country','Region','Happiness Rank_2019','Happiness Score_2019','GDP Per Capita_2019','Family_2019','Health (Life Expectancy)_2019','Freedom_2019','Trust (Government Corruption)_2019','Generosity_2019','Dystopia Residual_2019']]\n",
    "data2019.columns = columns\n",
    "data2019 = data2019.assign(Year=2019)"
   ]
  },
  {
   "cell_type": "markdown",
   "id": "62d4c5b3",
   "metadata": {},
   "source": [
    "# 2015"
   ]
  },
  {
   "cell_type": "code",
   "execution_count": 787,
   "id": "e0c49c68",
   "metadata": {},
   "outputs": [
    {
     "data": {
      "text/html": [
       "<div>\n",
       "<style scoped>\n",
       "    .dataframe tbody tr th:only-of-type {\n",
       "        vertical-align: middle;\n",
       "    }\n",
       "\n",
       "    .dataframe tbody tr th {\n",
       "        vertical-align: top;\n",
       "    }\n",
       "\n",
       "    .dataframe thead th {\n",
       "        text-align: right;\n",
       "    }\n",
       "</style>\n",
       "<table border=\"1\" class=\"dataframe\">\n",
       "  <thead>\n",
       "    <tr style=\"text-align: right;\">\n",
       "      <th></th>\n",
       "      <th>Country</th>\n",
       "      <th>Region</th>\n",
       "      <th>Happiness Rank</th>\n",
       "      <th>Happiness Score</th>\n",
       "      <th>GDP Per Capita</th>\n",
       "      <th>Family</th>\n",
       "      <th>HLE</th>\n",
       "      <th>Freedom</th>\n",
       "      <th>Trust</th>\n",
       "      <th>Generosity</th>\n",
       "      <th>Dystopia Residual</th>\n",
       "      <th>Year</th>\n",
       "    </tr>\n",
       "  </thead>\n",
       "  <tbody>\n",
       "    <tr>\n",
       "      <th>0</th>\n",
       "      <td>Switzerland</td>\n",
       "      <td>Western Europe</td>\n",
       "      <td>1</td>\n",
       "      <td>7.587</td>\n",
       "      <td>1.39651</td>\n",
       "      <td>1.34951</td>\n",
       "      <td>0.94143</td>\n",
       "      <td>0.66557</td>\n",
       "      <td>0.41978</td>\n",
       "      <td>0.29678</td>\n",
       "      <td>2.51738</td>\n",
       "      <td>2015</td>\n",
       "    </tr>\n",
       "    <tr>\n",
       "      <th>1</th>\n",
       "      <td>Iceland</td>\n",
       "      <td>Western Europe</td>\n",
       "      <td>2</td>\n",
       "      <td>7.561</td>\n",
       "      <td>1.30232</td>\n",
       "      <td>1.40223</td>\n",
       "      <td>0.94784</td>\n",
       "      <td>0.62877</td>\n",
       "      <td>0.14145</td>\n",
       "      <td>0.43630</td>\n",
       "      <td>2.70201</td>\n",
       "      <td>2015</td>\n",
       "    </tr>\n",
       "    <tr>\n",
       "      <th>2</th>\n",
       "      <td>Denmark</td>\n",
       "      <td>Western Europe</td>\n",
       "      <td>3</td>\n",
       "      <td>7.527</td>\n",
       "      <td>1.32548</td>\n",
       "      <td>1.36058</td>\n",
       "      <td>0.87464</td>\n",
       "      <td>0.64938</td>\n",
       "      <td>0.48357</td>\n",
       "      <td>0.34139</td>\n",
       "      <td>2.49204</td>\n",
       "      <td>2015</td>\n",
       "    </tr>\n",
       "    <tr>\n",
       "      <th>3</th>\n",
       "      <td>Canada</td>\n",
       "      <td>North America</td>\n",
       "      <td>5</td>\n",
       "      <td>7.427</td>\n",
       "      <td>1.32629</td>\n",
       "      <td>1.32261</td>\n",
       "      <td>0.90563</td>\n",
       "      <td>0.63297</td>\n",
       "      <td>0.32957</td>\n",
       "      <td>0.45811</td>\n",
       "      <td>2.45176</td>\n",
       "      <td>2015</td>\n",
       "    </tr>\n",
       "    <tr>\n",
       "      <th>4</th>\n",
       "      <td>Finland</td>\n",
       "      <td>Western Europe</td>\n",
       "      <td>6</td>\n",
       "      <td>7.406</td>\n",
       "      <td>1.29025</td>\n",
       "      <td>1.31826</td>\n",
       "      <td>0.88911</td>\n",
       "      <td>0.64169</td>\n",
       "      <td>0.41372</td>\n",
       "      <td>0.23351</td>\n",
       "      <td>2.61955</td>\n",
       "      <td>2015</td>\n",
       "    </tr>\n",
       "  </tbody>\n",
       "</table>\n",
       "</div>"
      ],
      "text/plain": [
       "       Country          Region  Happiness Rank  Happiness Score  \\\n",
       "0  Switzerland  Western Europe               1            7.587   \n",
       "1      Iceland  Western Europe               2            7.561   \n",
       "2      Denmark  Western Europe               3            7.527   \n",
       "3       Canada   North America               5            7.427   \n",
       "4      Finland  Western Europe               6            7.406   \n",
       "\n",
       "   GDP Per Capita   Family      HLE  Freedom    Trust  Generosity  \\\n",
       "0         1.39651  1.34951  0.94143  0.66557  0.41978     0.29678   \n",
       "1         1.30232  1.40223  0.94784  0.62877  0.14145     0.43630   \n",
       "2         1.32548  1.36058  0.87464  0.64938  0.48357     0.34139   \n",
       "3         1.32629  1.32261  0.90563  0.63297  0.32957     0.45811   \n",
       "4         1.29025  1.31826  0.88911  0.64169  0.41372     0.23351   \n",
       "\n",
       "   Dystopia Residual  Year  \n",
       "0            2.51738  2015  \n",
       "1            2.70201  2015  \n",
       "2            2.49204  2015  \n",
       "3            2.45176  2015  \n",
       "4            2.61955  2015  "
      ]
     },
     "execution_count": 787,
     "metadata": {},
     "output_type": "execute_result"
    }
   ],
   "source": [
    "data2015.head()"
   ]
  },
  {
   "cell_type": "markdown",
   "id": "6f94c34e",
   "metadata": {},
   "source": [
    "# 2016"
   ]
  },
  {
   "cell_type": "code",
   "execution_count": 788,
   "id": "120be9cd",
   "metadata": {},
   "outputs": [
    {
     "data": {
      "text/html": [
       "<div>\n",
       "<style scoped>\n",
       "    .dataframe tbody tr th:only-of-type {\n",
       "        vertical-align: middle;\n",
       "    }\n",
       "\n",
       "    .dataframe tbody tr th {\n",
       "        vertical-align: top;\n",
       "    }\n",
       "\n",
       "    .dataframe thead th {\n",
       "        text-align: right;\n",
       "    }\n",
       "</style>\n",
       "<table border=\"1\" class=\"dataframe\">\n",
       "  <thead>\n",
       "    <tr style=\"text-align: right;\">\n",
       "      <th></th>\n",
       "      <th>Country</th>\n",
       "      <th>Region</th>\n",
       "      <th>Happiness Rank</th>\n",
       "      <th>Happiness Score</th>\n",
       "      <th>GDP Per Capita</th>\n",
       "      <th>Family</th>\n",
       "      <th>HLE</th>\n",
       "      <th>Freedom</th>\n",
       "      <th>Trust</th>\n",
       "      <th>Generosity</th>\n",
       "      <th>Dystopia Residual</th>\n",
       "      <th>Year</th>\n",
       "    </tr>\n",
       "  </thead>\n",
       "  <tbody>\n",
       "    <tr>\n",
       "      <th>0</th>\n",
       "      <td>Switzerland</td>\n",
       "      <td>Western Europe</td>\n",
       "      <td>2</td>\n",
       "      <td>7.509</td>\n",
       "      <td>1.52733</td>\n",
       "      <td>1.14524</td>\n",
       "      <td>0.86303</td>\n",
       "      <td>0.58557</td>\n",
       "      <td>0.41203</td>\n",
       "      <td>0.28083</td>\n",
       "      <td>2.69463</td>\n",
       "      <td>2016</td>\n",
       "    </tr>\n",
       "    <tr>\n",
       "      <th>1</th>\n",
       "      <td>Iceland</td>\n",
       "      <td>Western Europe</td>\n",
       "      <td>3</td>\n",
       "      <td>7.501</td>\n",
       "      <td>1.42666</td>\n",
       "      <td>1.18326</td>\n",
       "      <td>0.86733</td>\n",
       "      <td>0.56624</td>\n",
       "      <td>0.14975</td>\n",
       "      <td>0.47678</td>\n",
       "      <td>2.83137</td>\n",
       "      <td>2016</td>\n",
       "    </tr>\n",
       "    <tr>\n",
       "      <th>2</th>\n",
       "      <td>Denmark</td>\n",
       "      <td>Western Europe</td>\n",
       "      <td>1</td>\n",
       "      <td>7.526</td>\n",
       "      <td>1.44178</td>\n",
       "      <td>1.16374</td>\n",
       "      <td>0.79504</td>\n",
       "      <td>0.57941</td>\n",
       "      <td>0.44453</td>\n",
       "      <td>0.36171</td>\n",
       "      <td>2.73939</td>\n",
       "      <td>2016</td>\n",
       "    </tr>\n",
       "    <tr>\n",
       "      <th>3</th>\n",
       "      <td>Canada</td>\n",
       "      <td>North America</td>\n",
       "      <td>6</td>\n",
       "      <td>7.404</td>\n",
       "      <td>1.44015</td>\n",
       "      <td>1.09610</td>\n",
       "      <td>0.82760</td>\n",
       "      <td>0.57370</td>\n",
       "      <td>0.31329</td>\n",
       "      <td>0.44834</td>\n",
       "      <td>2.70485</td>\n",
       "      <td>2016</td>\n",
       "    </tr>\n",
       "    <tr>\n",
       "      <th>4</th>\n",
       "      <td>Finland</td>\n",
       "      <td>Western Europe</td>\n",
       "      <td>5</td>\n",
       "      <td>7.413</td>\n",
       "      <td>1.40598</td>\n",
       "      <td>1.13464</td>\n",
       "      <td>0.81091</td>\n",
       "      <td>0.57104</td>\n",
       "      <td>0.41004</td>\n",
       "      <td>0.25492</td>\n",
       "      <td>2.82596</td>\n",
       "      <td>2016</td>\n",
       "    </tr>\n",
       "  </tbody>\n",
       "</table>\n",
       "</div>"
      ],
      "text/plain": [
       "       Country          Region  Happiness Rank  Happiness Score  \\\n",
       "0  Switzerland  Western Europe               2            7.509   \n",
       "1      Iceland  Western Europe               3            7.501   \n",
       "2      Denmark  Western Europe               1            7.526   \n",
       "3       Canada   North America               6            7.404   \n",
       "4      Finland  Western Europe               5            7.413   \n",
       "\n",
       "   GDP Per Capita   Family      HLE  Freedom    Trust  Generosity  \\\n",
       "0         1.52733  1.14524  0.86303  0.58557  0.41203     0.28083   \n",
       "1         1.42666  1.18326  0.86733  0.56624  0.14975     0.47678   \n",
       "2         1.44178  1.16374  0.79504  0.57941  0.44453     0.36171   \n",
       "3         1.44015  1.09610  0.82760  0.57370  0.31329     0.44834   \n",
       "4         1.40598  1.13464  0.81091  0.57104  0.41004     0.25492   \n",
       "\n",
       "   Dystopia Residual  Year  \n",
       "0            2.69463  2016  \n",
       "1            2.83137  2016  \n",
       "2            2.73939  2016  \n",
       "3            2.70485  2016  \n",
       "4            2.82596  2016  "
      ]
     },
     "execution_count": 788,
     "metadata": {},
     "output_type": "execute_result"
    }
   ],
   "source": [
    "data2016.head()"
   ]
  },
  {
   "cell_type": "markdown",
   "id": "9130a745",
   "metadata": {},
   "source": [
    "# 2017"
   ]
  },
  {
   "cell_type": "code",
   "execution_count": 789,
   "id": "2df705ca",
   "metadata": {},
   "outputs": [
    {
     "data": {
      "text/html": [
       "<div>\n",
       "<style scoped>\n",
       "    .dataframe tbody tr th:only-of-type {\n",
       "        vertical-align: middle;\n",
       "    }\n",
       "\n",
       "    .dataframe tbody tr th {\n",
       "        vertical-align: top;\n",
       "    }\n",
       "\n",
       "    .dataframe thead th {\n",
       "        text-align: right;\n",
       "    }\n",
       "</style>\n",
       "<table border=\"1\" class=\"dataframe\">\n",
       "  <thead>\n",
       "    <tr style=\"text-align: right;\">\n",
       "      <th></th>\n",
       "      <th>Country</th>\n",
       "      <th>Region</th>\n",
       "      <th>Happiness Rank</th>\n",
       "      <th>Happiness Score</th>\n",
       "      <th>GDP Per Capita</th>\n",
       "      <th>Family</th>\n",
       "      <th>HLE</th>\n",
       "      <th>Freedom</th>\n",
       "      <th>Trust</th>\n",
       "      <th>Generosity</th>\n",
       "      <th>Dystopia Residual</th>\n",
       "      <th>Year</th>\n",
       "    </tr>\n",
       "  </thead>\n",
       "  <tbody>\n",
       "    <tr>\n",
       "      <th>0</th>\n",
       "      <td>Switzerland</td>\n",
       "      <td>Western Europe</td>\n",
       "      <td>4</td>\n",
       "      <td>7.494</td>\n",
       "      <td>1.564980</td>\n",
       "      <td>1.516912</td>\n",
       "      <td>0.858131</td>\n",
       "      <td>0.620071</td>\n",
       "      <td>0.367007</td>\n",
       "      <td>0.290549</td>\n",
       "      <td>2.276716</td>\n",
       "      <td>2017</td>\n",
       "    </tr>\n",
       "    <tr>\n",
       "      <th>1</th>\n",
       "      <td>Iceland</td>\n",
       "      <td>Western Europe</td>\n",
       "      <td>3</td>\n",
       "      <td>7.504</td>\n",
       "      <td>1.480633</td>\n",
       "      <td>1.610574</td>\n",
       "      <td>0.833552</td>\n",
       "      <td>0.627163</td>\n",
       "      <td>0.153527</td>\n",
       "      <td>0.475540</td>\n",
       "      <td>2.322715</td>\n",
       "      <td>2017</td>\n",
       "    </tr>\n",
       "    <tr>\n",
       "      <th>2</th>\n",
       "      <td>Denmark</td>\n",
       "      <td>Western Europe</td>\n",
       "      <td>2</td>\n",
       "      <td>7.522</td>\n",
       "      <td>1.482383</td>\n",
       "      <td>1.551122</td>\n",
       "      <td>0.792566</td>\n",
       "      <td>0.626007</td>\n",
       "      <td>0.400770</td>\n",
       "      <td>0.355280</td>\n",
       "      <td>2.313707</td>\n",
       "      <td>2017</td>\n",
       "    </tr>\n",
       "    <tr>\n",
       "      <th>3</th>\n",
       "      <td>Canada</td>\n",
       "      <td>North America</td>\n",
       "      <td>7</td>\n",
       "      <td>7.316</td>\n",
       "      <td>1.479204</td>\n",
       "      <td>1.481349</td>\n",
       "      <td>0.834558</td>\n",
       "      <td>0.611101</td>\n",
       "      <td>0.287372</td>\n",
       "      <td>0.435540</td>\n",
       "      <td>2.187264</td>\n",
       "      <td>2017</td>\n",
       "    </tr>\n",
       "    <tr>\n",
       "      <th>4</th>\n",
       "      <td>Finland</td>\n",
       "      <td>Western Europe</td>\n",
       "      <td>5</td>\n",
       "      <td>7.469</td>\n",
       "      <td>1.443572</td>\n",
       "      <td>1.540247</td>\n",
       "      <td>0.809158</td>\n",
       "      <td>0.617951</td>\n",
       "      <td>0.382612</td>\n",
       "      <td>0.245483</td>\n",
       "      <td>2.430182</td>\n",
       "      <td>2017</td>\n",
       "    </tr>\n",
       "  </tbody>\n",
       "</table>\n",
       "</div>"
      ],
      "text/plain": [
       "       Country          Region  Happiness Rank  Happiness Score  \\\n",
       "0  Switzerland  Western Europe               4            7.494   \n",
       "1      Iceland  Western Europe               3            7.504   \n",
       "2      Denmark  Western Europe               2            7.522   \n",
       "3       Canada   North America               7            7.316   \n",
       "4      Finland  Western Europe               5            7.469   \n",
       "\n",
       "   GDP Per Capita    Family       HLE   Freedom     Trust  Generosity  \\\n",
       "0        1.564980  1.516912  0.858131  0.620071  0.367007    0.290549   \n",
       "1        1.480633  1.610574  0.833552  0.627163  0.153527    0.475540   \n",
       "2        1.482383  1.551122  0.792566  0.626007  0.400770    0.355280   \n",
       "3        1.479204  1.481349  0.834558  0.611101  0.287372    0.435540   \n",
       "4        1.443572  1.540247  0.809158  0.617951  0.382612    0.245483   \n",
       "\n",
       "   Dystopia Residual  Year  \n",
       "0           2.276716  2017  \n",
       "1           2.322715  2017  \n",
       "2           2.313707  2017  \n",
       "3           2.187264  2017  \n",
       "4           2.430182  2017  "
      ]
     },
     "execution_count": 789,
     "metadata": {},
     "output_type": "execute_result"
    }
   ],
   "source": [
    "data2017.head()"
   ]
  },
  {
   "cell_type": "markdown",
   "id": "1e6bc4a1",
   "metadata": {},
   "source": [
    "# 2018"
   ]
  },
  {
   "cell_type": "code",
   "execution_count": 790,
   "id": "834205b9",
   "metadata": {},
   "outputs": [
    {
     "data": {
      "text/html": [
       "<div>\n",
       "<style scoped>\n",
       "    .dataframe tbody tr th:only-of-type {\n",
       "        vertical-align: middle;\n",
       "    }\n",
       "\n",
       "    .dataframe tbody tr th {\n",
       "        vertical-align: top;\n",
       "    }\n",
       "\n",
       "    .dataframe thead th {\n",
       "        text-align: right;\n",
       "    }\n",
       "</style>\n",
       "<table border=\"1\" class=\"dataframe\">\n",
       "  <thead>\n",
       "    <tr style=\"text-align: right;\">\n",
       "      <th></th>\n",
       "      <th>Country</th>\n",
       "      <th>Region</th>\n",
       "      <th>Happiness Rank</th>\n",
       "      <th>Happiness Score</th>\n",
       "      <th>GDP Per Capita</th>\n",
       "      <th>Family</th>\n",
       "      <th>HLE</th>\n",
       "      <th>Freedom</th>\n",
       "      <th>Trust</th>\n",
       "      <th>Generosity</th>\n",
       "      <th>Dystopia Residual</th>\n",
       "      <th>Year</th>\n",
       "    </tr>\n",
       "  </thead>\n",
       "  <tbody>\n",
       "    <tr>\n",
       "      <th>0</th>\n",
       "      <td>Switzerland</td>\n",
       "      <td>Western Europe</td>\n",
       "      <td>5</td>\n",
       "      <td>7.487</td>\n",
       "      <td>1.420</td>\n",
       "      <td>1.337221</td>\n",
       "      <td>0.927</td>\n",
       "      <td>0.660</td>\n",
       "      <td>0.357</td>\n",
       "      <td>0.256</td>\n",
       "      <td>2.496242</td>\n",
       "      <td>2018</td>\n",
       "    </tr>\n",
       "    <tr>\n",
       "      <th>1</th>\n",
       "      <td>Iceland</td>\n",
       "      <td>Western Europe</td>\n",
       "      <td>4</td>\n",
       "      <td>7.495</td>\n",
       "      <td>1.343</td>\n",
       "      <td>1.398688</td>\n",
       "      <td>0.914</td>\n",
       "      <td>0.677</td>\n",
       "      <td>0.138</td>\n",
       "      <td>0.353</td>\n",
       "      <td>2.618698</td>\n",
       "      <td>2018</td>\n",
       "    </tr>\n",
       "    <tr>\n",
       "      <th>2</th>\n",
       "      <td>Denmark</td>\n",
       "      <td>Western Europe</td>\n",
       "      <td>3</td>\n",
       "      <td>7.555</td>\n",
       "      <td>1.351</td>\n",
       "      <td>1.358481</td>\n",
       "      <td>0.868</td>\n",
       "      <td>0.683</td>\n",
       "      <td>0.408</td>\n",
       "      <td>0.284</td>\n",
       "      <td>2.515046</td>\n",
       "      <td>2018</td>\n",
       "    </tr>\n",
       "    <tr>\n",
       "      <th>3</th>\n",
       "      <td>Canada</td>\n",
       "      <td>North America</td>\n",
       "      <td>7</td>\n",
       "      <td>7.328</td>\n",
       "      <td>1.330</td>\n",
       "      <td>1.300020</td>\n",
       "      <td>0.896</td>\n",
       "      <td>0.653</td>\n",
       "      <td>0.291</td>\n",
       "      <td>0.321</td>\n",
       "      <td>2.447958</td>\n",
       "      <td>2018</td>\n",
       "    </tr>\n",
       "    <tr>\n",
       "      <th>4</th>\n",
       "      <td>Finland</td>\n",
       "      <td>Western Europe</td>\n",
       "      <td>1</td>\n",
       "      <td>7.632</td>\n",
       "      <td>1.305</td>\n",
       "      <td>1.331049</td>\n",
       "      <td>0.874</td>\n",
       "      <td>0.681</td>\n",
       "      <td>0.393</td>\n",
       "      <td>0.202</td>\n",
       "      <td>2.625231</td>\n",
       "      <td>2018</td>\n",
       "    </tr>\n",
       "  </tbody>\n",
       "</table>\n",
       "</div>"
      ],
      "text/plain": [
       "       Country          Region  Happiness Rank  Happiness Score  \\\n",
       "0  Switzerland  Western Europe               5            7.487   \n",
       "1      Iceland  Western Europe               4            7.495   \n",
       "2      Denmark  Western Europe               3            7.555   \n",
       "3       Canada   North America               7            7.328   \n",
       "4      Finland  Western Europe               1            7.632   \n",
       "\n",
       "   GDP Per Capita    Family    HLE  Freedom  Trust  Generosity  \\\n",
       "0           1.420  1.337221  0.927    0.660  0.357       0.256   \n",
       "1           1.343  1.398688  0.914    0.677  0.138       0.353   \n",
       "2           1.351  1.358481  0.868    0.683  0.408       0.284   \n",
       "3           1.330  1.300020  0.896    0.653  0.291       0.321   \n",
       "4           1.305  1.331049  0.874    0.681  0.393       0.202   \n",
       "\n",
       "   Dystopia Residual  Year  \n",
       "0           2.496242  2018  \n",
       "1           2.618698  2018  \n",
       "2           2.515046  2018  \n",
       "3           2.447958  2018  \n",
       "4           2.625231  2018  "
      ]
     },
     "execution_count": 790,
     "metadata": {},
     "output_type": "execute_result"
    }
   ],
   "source": [
    "data2018.head()"
   ]
  },
  {
   "cell_type": "markdown",
   "id": "d5827dda",
   "metadata": {},
   "source": [
    "# 2019"
   ]
  },
  {
   "cell_type": "code",
   "execution_count": 791,
   "id": "148704c3",
   "metadata": {},
   "outputs": [
    {
     "data": {
      "text/html": [
       "<div>\n",
       "<style scoped>\n",
       "    .dataframe tbody tr th:only-of-type {\n",
       "        vertical-align: middle;\n",
       "    }\n",
       "\n",
       "    .dataframe tbody tr th {\n",
       "        vertical-align: top;\n",
       "    }\n",
       "\n",
       "    .dataframe thead th {\n",
       "        text-align: right;\n",
       "    }\n",
       "</style>\n",
       "<table border=\"1\" class=\"dataframe\">\n",
       "  <thead>\n",
       "    <tr style=\"text-align: right;\">\n",
       "      <th></th>\n",
       "      <th>Country</th>\n",
       "      <th>Region</th>\n",
       "      <th>Happiness Rank</th>\n",
       "      <th>Happiness Score</th>\n",
       "      <th>GDP Per Capita</th>\n",
       "      <th>Family</th>\n",
       "      <th>HLE</th>\n",
       "      <th>Freedom</th>\n",
       "      <th>Trust</th>\n",
       "      <th>Generosity</th>\n",
       "      <th>Dystopia Residual</th>\n",
       "      <th>Year</th>\n",
       "    </tr>\n",
       "  </thead>\n",
       "  <tbody>\n",
       "    <tr>\n",
       "      <th>0</th>\n",
       "      <td>Switzerland</td>\n",
       "      <td>Western Europe</td>\n",
       "      <td>6</td>\n",
       "      <td>7.480</td>\n",
       "      <td>1.452</td>\n",
       "      <td>1.337221</td>\n",
       "      <td>1.052</td>\n",
       "      <td>0.572</td>\n",
       "      <td>0.343</td>\n",
       "      <td>0.263</td>\n",
       "      <td>2.496242</td>\n",
       "      <td>2019</td>\n",
       "    </tr>\n",
       "    <tr>\n",
       "      <th>1</th>\n",
       "      <td>Iceland</td>\n",
       "      <td>Western Europe</td>\n",
       "      <td>4</td>\n",
       "      <td>7.494</td>\n",
       "      <td>1.380</td>\n",
       "      <td>1.398688</td>\n",
       "      <td>1.026</td>\n",
       "      <td>0.591</td>\n",
       "      <td>0.118</td>\n",
       "      <td>0.354</td>\n",
       "      <td>2.618698</td>\n",
       "      <td>2019</td>\n",
       "    </tr>\n",
       "    <tr>\n",
       "      <th>2</th>\n",
       "      <td>Denmark</td>\n",
       "      <td>Western Europe</td>\n",
       "      <td>2</td>\n",
       "      <td>7.600</td>\n",
       "      <td>1.383</td>\n",
       "      <td>1.358481</td>\n",
       "      <td>0.996</td>\n",
       "      <td>0.592</td>\n",
       "      <td>0.410</td>\n",
       "      <td>0.252</td>\n",
       "      <td>2.515046</td>\n",
       "      <td>2019</td>\n",
       "    </tr>\n",
       "    <tr>\n",
       "      <th>3</th>\n",
       "      <td>Canada</td>\n",
       "      <td>North America</td>\n",
       "      <td>9</td>\n",
       "      <td>7.278</td>\n",
       "      <td>1.365</td>\n",
       "      <td>1.300020</td>\n",
       "      <td>1.039</td>\n",
       "      <td>0.584</td>\n",
       "      <td>0.308</td>\n",
       "      <td>0.285</td>\n",
       "      <td>2.447958</td>\n",
       "      <td>2019</td>\n",
       "    </tr>\n",
       "    <tr>\n",
       "      <th>4</th>\n",
       "      <td>Finland</td>\n",
       "      <td>Western Europe</td>\n",
       "      <td>1</td>\n",
       "      <td>7.769</td>\n",
       "      <td>1.340</td>\n",
       "      <td>1.331049</td>\n",
       "      <td>0.986</td>\n",
       "      <td>0.596</td>\n",
       "      <td>0.393</td>\n",
       "      <td>0.153</td>\n",
       "      <td>2.625231</td>\n",
       "      <td>2019</td>\n",
       "    </tr>\n",
       "  </tbody>\n",
       "</table>\n",
       "</div>"
      ],
      "text/plain": [
       "       Country          Region  Happiness Rank  Happiness Score  \\\n",
       "0  Switzerland  Western Europe               6            7.480   \n",
       "1      Iceland  Western Europe               4            7.494   \n",
       "2      Denmark  Western Europe               2            7.600   \n",
       "3       Canada   North America               9            7.278   \n",
       "4      Finland  Western Europe               1            7.769   \n",
       "\n",
       "   GDP Per Capita    Family    HLE  Freedom  Trust  Generosity  \\\n",
       "0           1.452  1.337221  1.052    0.572  0.343       0.263   \n",
       "1           1.380  1.398688  1.026    0.591  0.118       0.354   \n",
       "2           1.383  1.358481  0.996    0.592  0.410       0.252   \n",
       "3           1.365  1.300020  1.039    0.584  0.308       0.285   \n",
       "4           1.340  1.331049  0.986    0.596  0.393       0.153   \n",
       "\n",
       "   Dystopia Residual  Year  \n",
       "0           2.496242  2019  \n",
       "1           2.618698  2019  \n",
       "2           2.515046  2019  \n",
       "3           2.447958  2019  \n",
       "4           2.625231  2019  "
      ]
     },
     "execution_count": 791,
     "metadata": {},
     "output_type": "execute_result"
    }
   ],
   "source": [
    "data2019.head()"
   ]
  },
  {
   "cell_type": "code",
   "execution_count": 792,
   "id": "51429c4f",
   "metadata": {},
   "outputs": [],
   "source": [
    "X = np.linspace(0,9,10)\n",
    "ten_happy_countries_2015 = np.array(data2015[['Country']][:10])\n",
    "ten_happy_countries_2016 = np.array(data2016[['Country']][:10])\n",
    "ten_happy_countries_2017 = np.array(data2017[['Country']][:10])\n",
    "ten_happy_countries_2018 = np.array(data2018[['Country']][:10])\n",
    "ten_happy_countries_2019 = np.array(data2019[['Country']][:10])"
   ]
  },
  {
   "cell_type": "code",
   "execution_count": 793,
   "id": "7f59286e",
   "metadata": {},
   "outputs": [],
   "source": [
    "def country_list(country_list):\n",
    "    i=0\n",
    "    countries =[]\n",
    "    while i<10:\n",
    "        countries.append(country_list[i,0])\n",
    "        i+=1\n",
    "    return countries\n",
    "def country_list_score(country_list):\n",
    "    i=0\n",
    "    countries =[]\n",
    "    while i<10:\n",
    "        countries.append(country_list[i,0])\n",
    "        i+=1\n",
    "    return countries"
   ]
  },
  {
   "cell_type": "code",
   "execution_count": 794,
   "id": "a74b1b74",
   "metadata": {},
   "outputs": [],
   "source": [
    "countries_2015 = country_list(ten_happy_countries_2015)\n",
    "countries_2016 = country_list(ten_happy_countries_2016)\n",
    "countries_2017 = country_list(ten_happy_countries_2017)\n",
    "countries_2018 = country_list(ten_happy_countries_2018)\n",
    "countries_2019 = country_list(ten_happy_countries_2019)"
   ]
  },
  {
   "cell_type": "code",
   "execution_count": 795,
   "id": "36baa8b4",
   "metadata": {},
   "outputs": [],
   "source": [
    "ten_happy_countries_score_2015 = np.array(data2015[['Happiness Score']][:10])\n",
    "ten_happy_countries_score_2016 = np.array(data2016[['Happiness Score']][:10])\n",
    "ten_happy_countries_score_2017 = np.array(data2017[['Happiness Score']][:10])\n",
    "ten_happy_countries_score_2018 = np.array(data2018[['Happiness Score']][:10])\n",
    "ten_happy_countries_score_2019 = np.array(data2019[['Happiness Score']][:10])"
   ]
  },
  {
   "cell_type": "code",
   "execution_count": 796,
   "id": "44135580",
   "metadata": {},
   "outputs": [],
   "source": [
    "countries_2015_score = country_list_score(ten_happy_countries_score_2015)\n",
    "countries_2016_score = country_list_score(ten_happy_countries_score_2016)\n",
    "countries_2017_score = country_list_score(ten_happy_countries_score_2017)\n",
    "countries_2018_score = country_list_score(ten_happy_countries_score_2018)\n",
    "countries_2019_score = country_list_score(ten_happy_countries_score_2019)"
   ]
  },
  {
   "cell_type": "code",
   "execution_count": 797,
   "id": "1a2dd4b3",
   "metadata": {},
   "outputs": [
    {
     "data": {
      "image/png": "[encoded data removed]",
      "text/plain": [
       "<Figure size 720x432 with 1 Axes>"
      ]
     },
     "metadata": {
      "needs_background": "light"
     },
     "output_type": "display_data"
    }
   ],
   "source": [
    "plt.boxplot([data2015['Happiness Score'], data2016['Happiness Score'],\n",
    "             data2017['Happiness Score'], data2018['Happiness Score'],data2019['Happiness Score']])\n",
    "plt.xticks([1,2,3,4,5],['2015','2016','2017','2018','2019'],fontsize=16)\n",
    "plt.yticks(fontsize=16)\n",
    "plt.ylabel('Happiness Score',fontsize=18)\n",
    "plt.xlabel('Year',fontsize=18)\n",
    "plt.title('Happiness Score Throughout the Years',fontsize=20)\n",
    "plt.gcf().set_size_inches(10,6)\n",
    "plt.show()"
   ]
  },
  {
   "cell_type": "code",
   "execution_count": 798,
   "id": "d7bc4c3d",
   "metadata": {},
   "outputs": [
    {
     "data": {
      "image/png": "[encoded data removed]",
      "text/plain": [
       "<Figure size 720x360 with 4 Axes>"
      ]
     },
     "metadata": {
      "needs_background": "light"
     },
     "output_type": "display_data"
    }
   ],
   "source": [
    "fig, axs = plt.subplots(2, 2,figsize=(10,5))\n",
    "axs[0, 0].scatter(X, countries_2015_score,s=ten_happy_countries_GDP_2015**10)\n",
    "axs[0, 1].scatter(X, countries_2016_score,s=ten_happy_countries_GDP_2016**10)\n",
    "axs[1, 0].scatter(X, countries_2017_score,s=ten_happy_countries_GDP_2017**10)\n",
    "axs[1, 1].scatter(X, countries_2018_score,s=ten_happy_countries_GDP_2018**10)\n",
    "axs[1,0].set_xticks(X,countries_2015,rotation=90)\n",
    "axs[1,1].set_xticks(X,countries_2015,rotation=90)\n",
    "axs[0,0].set_title(\"Happiness Score in 2015\")\n",
    "axs[0,1].set_title(\"Happiness Score in 2016\")\n",
    "axs[1,0].set_title(\"Happiness Score in 2017\")\n",
    "axs[1,1].set_title(\"Happiness Score in 2018\")\n",
    "fig.suptitle('Happiness in the Top 10 Countries (2015-2018)', fontsize=20)\n",
    "\n",
    "for ax in axs.flat:\n",
    "    ax.set(xlabel='Countries', ylabel='Happiness Score')\n",
    "\n",
    "# Hide x labels and tick labels for top plots and y ticks for right plots.\n",
    "for ax in axs.flat:\n",
    "    ax.label_outer()"
   ]
  },
  {
   "cell_type": "code",
   "execution_count": null,
   "id": "5dc66875",
   "metadata": {},
   "outputs": [],
   "source": []
  },
  {
   "cell_type": "code",
   "execution_count": 849,
   "id": "39a44ab1",
   "metadata": {},
   "outputs": [
    {
     "data": {
      "text/markdown": [
       "# Columns vs Happiness Score in 2015"
      ],
      "text/plain": [
       "<IPython.core.display.Markdown object>"
      ]
     },
     "metadata": {},
     "output_type": "display_data"
    },
    {
     "data": {
      "image/png": "[encoded data removed]",
      "text/plain": [
       "<Figure size 360x1080 with 6 Axes>"
      ]
     },
     "metadata": {
      "needs_background": "light"
     },
     "output_type": "display_data"
    }
   ],
   "source": [
    "m2015_GDP,b2015_GDP,r2015_GDP,p2015_GDP,s2015_GDP = LR(data2015[\"GDP Per Capita\"],data2015[\"Happiness Score\"])\n",
    "m2015_Family,b2015_Family,r2015_Family,p2015_Family,s2015_Family = LR(data2015[\"Family\"],data2016[\"Happiness Score\"])\n",
    "m2015_HLE,b2015_HLE,r2015_HLE,p2015_HLE,s2015_HLE = LR(data2015[\"HLE\"],data2017[\"Happiness Score\"])\n",
    "m2015_Freedom,b2015_Freedom,r2015_Freedom,p2015_Freedom,s2015_Freedom = LR(data2015[\"Freedom\"],data2018[\"Happiness Score\"])\n",
    "m2015_Trust,b2015_Trust,r2015_Trust,p2015_Trust,s2015_Trust = LR(data2015[\"Trust\"],data2019[\"Happiness Score\"])\n",
    "m2015_Generosity,b2015_Generosity,r2015_Generosity,p2015_Generosity,s2015_Generosity = LR(data2015[\"Generosity\"],data2019[\"Happiness Score\"]) \n",
    "X2015_GDP = np.array(data2015[\"GDP Per Capita\"])\n",
    "X2015_Family = np.array(data2015[\"Family\"])\n",
    "X2015_HLE = np.array(data2015[\"HLE\"])\n",
    "X2015_Freedom = np.array(data2015[\"Freedom\"])\n",
    "X2015_Trust = np.array(data2015[\"Trust\"])\n",
    "X2015_Gen = np.array(data2015[\"Generosity\"])\n",
    "Y2015 = np.array(data2015[\"Happiness Score\"])\n",
    "display(Markdown(\"# Columns vs Happiness Score in 2015\"))\n",
    "fig, axs = plt.subplots(6,figsize=(5,15),sharex=True)\n",
    "xline2015_GDP=np.linspace(min(X2015_GDP),max(X2015_GDP),100)\n",
    "yline2015_GDP=m2015_GDP*xline2015_GDP+b2015_GDP\n",
    "axs[0].plot(xline2015_GDP,yline2015_GDP,color=\"red\")\n",
    "xline2015_Family=np.linspace(min(X2015_Family),max(X2015_Family),100)\n",
    "yline2015_Family=m2015_Family*xline2015_Family+b2015_Family\n",
    "axs[1].plot(xline2015_Family,yline2015_Family,color=\"red\")\n",
    "xline2015_HLE=np.linspace(min(X2015_HLE),max(X2015_HLE),100)\n",
    "yline2015_HLE=m2015_HLE*xline2015_HLE+b2015_HLE\n",
    "axs[2].plot(xline2015_HLE,yline2015_HLE,color=\"red\")\n",
    "xline2015_Freedom=np.linspace(min(X2015_Freedom),max(X2015_Freedom),100)\n",
    "yline2015_Freedom=m2015_Freedom*xline2015_Freedom+b2015_Freedom\n",
    "axs[3].plot(xline2015_Freedom,yline2015_Freedom,color=\"red\")\n",
    "xline2015_Trust=np.linspace(min(X2015_Trust),max(X2015_Trust),100)\n",
    "yline2015_Trust=m2015_Trust*xline2015_Trust+b2015_Trust\n",
    "axs[4].plot(xline2015_Trust,yline2015_Trust,color=\"red\")\n",
    "xline2015_Gen=np.linspace(min(X2015_Gen),max(X2015_Gen),100)\n",
    "yline2015_Gen=m2015_Generosity*xline2015_Gen+b2015_Generosity\n",
    "axs[5].plot(xline2015_Gen,yline2015_Gen,color=\"red\")\n",
    "axs[0].scatter(X2015_GDP, Y2015)\n",
    "axs[1].scatter(X2015_Family, Y2015)\n",
    "axs[2].scatter(X2015_HLE, Y2015)\n",
    "axs[3].scatter(X2015_Freedom, Y2015)\n",
    "axs[4].scatter(X2015_Trust, Y2015)\n",
    "axs[5].scatter(X2015_Gen, Y2015)\n",
    "axs[0].set_xlabel('GDP')\n",
    "axs[1].set_xlabel('Family')\n",
    "axs[2].set_xlabel('HLE')\n",
    "axs[3].set_xlabel('Freedom')\n",
    "axs[4].set_xlabel('Trust')\n",
    "axs[5].set_xlabel('Generosity')\n",
    "for ax in axs.flat:\n",
    "    ax.set(ylabel='Happiness Score')\n",
    "plt.show()"
   ]
  },
  {
   "cell_type": "code",
   "execution_count": 850,
   "id": "0670510e",
   "metadata": {},
   "outputs": [
    {
     "data": {
      "text/markdown": [
       "# Columns vs Happiness Score in 2016"
      ],
      "text/plain": [
       "<IPython.core.display.Markdown object>"
      ]
     },
     "metadata": {},
     "output_type": "display_data"
    },
    {
     "data": {
      "image/png": "[encoded data removed]",
      "text/plain": [
       "<Figure size 360x1080 with 6 Axes>"
      ]
     },
     "metadata": {
      "needs_background": "light"
     },
     "output_type": "display_data"
    }
   ],
   "source": [
    "m2016_GDP,b2016_GDP,r2016_GDP,p2016_GDP,s2016_GDP = LR(data2016[\"GDP Per Capita\"],data2016[\"Happiness Score\"])\n",
    "m2016_Family,b2016_Family,r2016_Family,p2016_Family,s2016_Family = LR(data2016[\"Family\"],data2016[\"Happiness Score\"])\n",
    "m2016_HLE,b2016_HLE,r2016_HLE,p2016_HLE,s2016_HLE = LR(data2016[\"HLE\"],data2017[\"Happiness Score\"])\n",
    "m2016_Freedom,b2016_Freedom,r2016_Freedom,p2016_Freedom,s2016_Freedom = LR(data2016[\"Freedom\"],data2018[\"Happiness Score\"])\n",
    "m2016_Trust,b2016_Trust,r2016_Trust,p2016_Trust,s2016_Trust = LR(data2016[\"Trust\"],data2019[\"Happiness Score\"])\n",
    "m2016_Generosity,b2016_Generosity,r2016_Generosity,p2016_Generosity,s2016_Generosity = LR(data2016[\"Generosity\"],data2019[\"Happiness Score\"]) \n",
    "X2016_GDP = np.array(data2016[\"GDP Per Capita\"])\n",
    "X2016_Family = np.array(data2016[\"Family\"])\n",
    "X2016_HLE = np.array(data2016[\"HLE\"])\n",
    "X2016_Freedom = np.array(data2016[\"Freedom\"])\n",
    "X2016_Trust = np.array(data2016[\"Trust\"])\n",
    "X2016_Gen = np.array(data2016[\"Generosity\"])\n",
    "Y2016 = np.array(data2016[\"Happiness Score\"])\n",
    "display(Markdown(\"# Columns vs Happiness Score in 2016\"))\n",
    "fig, axs = plt.subplots(6,figsize=(5,15),sharex=True)\n",
    "xline2016_GDP=np.linspace(min(X2016_GDP),max(X2016_GDP),100)\n",
    "yline2016_GDP=m2016_GDP*xline2016_GDP+b2016_GDP\n",
    "axs[0].plot(xline2016_GDP,yline2016_GDP,color=\"red\")\n",
    "xline2016_Family=np.linspace(min(X2016_Family),max(X2016_Family),100)\n",
    "yline2016_Family=m2016_Family*xline2016_Family+b2016_Family\n",
    "axs[1].plot(xline2016_Family,yline2016_Family,color=\"red\")\n",
    "xline2016_HLE=np.linspace(min(X2016_HLE),max(X2016_HLE),100)\n",
    "yline2016_HLE=m2016_HLE*xline2016_HLE+b2016_HLE\n",
    "axs[2].plot(xline2016_HLE,yline2016_HLE,color=\"red\")\n",
    "xline2016_Freedom=np.linspace(min(X2016_Freedom),max(X2016_Freedom),100)\n",
    "yline2016_Freedom=m2016_Freedom*xline2016_Freedom+b2016_Freedom\n",
    "axs[3].plot(xline2016_Freedom,yline2016_Freedom,color=\"red\")\n",
    "xline2016_Trust=np.linspace(min(X2016_Trust),max(X2016_Trust),100)\n",
    "yline2016_Trust=m2016_Trust*xline2016_Trust+b2016_Trust\n",
    "axs[4].plot(xline2016_Trust,yline2016_Trust,color=\"red\")\n",
    "xline2016_Gen=np.linspace(min(X2016_Gen),max(X2016_Gen),100)\n",
    "yline2016_Gen=m2016_Generosity*xline2016_Gen+b2016_Generosity\n",
    "axs[5].plot(xline2016_Gen,yline2016_Gen,color=\"red\")\n",
    "axs[0].scatter(X2016_GDP, Y2016)\n",
    "axs[1].scatter(X2016_Family, Y2016)\n",
    "axs[2].scatter(X2016_HLE, Y2016)\n",
    "axs[3].scatter(X2016_Freedom, Y2016)\n",
    "axs[4].scatter(X2016_Trust, Y2016)\n",
    "axs[5].scatter(X2016_Gen, Y2016)\n",
    "axs[0].set_xlabel('GDP')\n",
    "axs[1].set_xlabel('Family')\n",
    "axs[2].set_xlabel('HLE')\n",
    "axs[3].set_xlabel('Freedom')\n",
    "axs[4].set_xlabel('Trust')\n",
    "axs[5].set_xlabel('Generosity')\n",
    "for ax in axs.flat:\n",
    "    ax.set(ylabel='Happiness Score')\n",
    "plt.show()"
   ]
  },
  {
   "cell_type": "code",
   "execution_count": null,
   "id": "0c7a6875",
   "metadata": {},
   "outputs": [],
   "source": [
    "m2017_GDP,b2017_GDP,r2017_GDP,p2017_GDP,s2017_GDP = LR(data2017[\"GDP Per Capita\"],data2017[\"Happiness Score\"])\n",
    "m2017_Family,b2017_Family,r2017_Family,p2017_Family,s2017_Family = LR(data2017[\"Family\"],data2017[\"Happiness Score\"])\n",
    "m2017_HLE,b2017_HLE,r2017_HLE,p2017_HLE,s2017_HLE = LR(data2017[\"HLE\"],data2017[\"Happiness Score\"])\n",
    "m2017_Freedom,b2017_Freedom,r2017_Freedom,p2017_Freedom,s2017_Freedom = LR(data2017[\"Freedom\"],data2018[\"Happiness Score\"])\n",
    "m2017_Trust,b2017_Trust,r2017_Trust,p2017_Trust,s2017_Trust = LR(data2017[\"Trust\"],data2019[\"Happiness Score\"])\n",
    "m2017_Generosity,b2017_Generosity,r2017_Generosity,p2017_Generosity,s2017_Generosity = LR(data2017[\"Generosity\"],data2019[\"Happiness Score\"]) \n",
    "X2017_GDP = np.array(data2017[\"GDP Per Capita\"])\n",
    "X2017_Family = np.array(data2017[\"Family\"])\n",
    "X2017_HLE = np.array(data2017[\"HLE\"])\n",
    "X2017_Freedom = np.array(data2017[\"Freedom\"])\n",
    "X2017_Trust = np.array(data2017[\"Trust\"])\n",
    "X2017_Gen = np.array(data2017[\"Generosity\"])\n",
    "Y2017 = np.array(data2017[\"Happiness Score\"])\n",
    "display(Markdown(\"# Columns vs Happiness Score in 2017\"))\n",
    "fig, axs = plt.subplots(6,figsize=(5,15),sharex=True)\n",
    "xline2017_GDP=np.linspace(min(X2017_GDP),max(X2017_GDP),100)\n",
    "yline2017_GDP=m2017_GDP*xline2017_GDP+b2017_GDP\n",
    "axs[0].plot(xline2017_GDP,yline2017_GDP,color=\"red\")\n",
    "xline2017_Family=np.linspace(min(X2017_Family),max(X2017_Family),100)\n",
    "yline2017_Family=m2017_Family*xline2017_Family+b2017_Family\n",
    "axs[1].plot(xline2017_Family,yline2017_Family,color=\"red\")\n",
    "xline2017_HLE=np.linspace(min(X2017_HLE),max(X2017_HLE),100)\n",
    "yline2017_HLE=m2017_HLE*xline2017_HLE+b2017_HLE\n",
    "axs[2].plot(xline2017_HLE,yline2017_HLE,color=\"red\")\n",
    "xline2017_Freedom=np.linspace(min(X2017_Freedom),max(X2017_Freedom),100)\n",
    "yline2017_Freedom=m2017_Freedom*xline2017_Freedom+b2017_Freedom\n",
    "axs[3].plot(xline2017_Freedom,yline2017_Freedom,color=\"red\")\n",
    "xline2017_Trust=np.linspace(min(X2017_Trust),max(X2017_Trust),100)\n",
    "yline2017_Trust=m2017_Trust*xline2017_Trust+b2017_Trust\n",
    "axs[4].plot(xline2017_Trust,yline2017_Trust,color=\"red\")\n",
    "xline2017_Gen=np.linspace(min(X2017_Gen),max(X2017_Gen),100)\n",
    "yline2017_Gen=m2017_Generosity*xline2017_Gen+b2017_Generosity\n",
    "axs[5].plot(xline2017_Gen,yline2017_Gen,color=\"red\")\n",
    "axs[0].scatter(X2017_GDP, Y2017)\n",
    "axs[1].scatter(X2017_Family, Y2017)\n",
    "axs[2].scatter(X2017_HLE, Y2017)\n",
    "axs[3].scatter(X2017_Freedom, Y2017)\n",
    "axs[4].scatter(X2017_Trust, Y2017)\n",
    "axs[5].scatter(X2017_Gen, Y2017)\n",
    "axs[0].set_xlabel('GDP')\n",
    "axs[1].set_xlabel('Family')\n",
    "axs[2].set_xlabel('HLE')\n",
    "axs[3].set_xlabel('Freedom')\n",
    "axs[4].set_xlabel('Trust')\n",
    "axs[5].set_xlabel('Generosity')\n",
    "for ax in axs.flat:\n",
    "    ax.set(ylabel='Happiness Score')\n",
    "plt.show()"
   ]
  },
  {
   "cell_type": "code",
   "execution_count": null,
   "id": "2cb20a30",
   "metadata": {},
   "outputs": [],
   "source": [
    "m2018_GDP,b2018_GDP,r2018_GDP,p2018_GDP,s2018_GDP = LR(data2018[\"GDP Per Capita\"],data2018[\"Happiness Score\"])\n",
    "m2018_Family,b2018_Family,r2018_Family,p2018_Family,s2018_Family = LR(data2018[\"Family\"],data2018[\"Happiness Score\"])\n",
    "m2018_HLE,b2018_HLE,r2018_HLE,p2018_HLE,s2018_HLE = LR(data2018[\"HLE\"],data2018[\"Happiness Score\"])\n",
    "m2018_Freedom,b2018_Freedom,r2018_Freedom,p2018_Freedom,s2018_Freedom = LR(data2018[\"Freedom\"],data2018[\"Happiness Score\"])\n",
    "m2018_Trust,b2018_Trust,r2018_Trust,p2018_Trust,s2018_Trust = LR(data2018[\"Trust\"],data2019[\"Happiness Score\"])\n",
    "m2018_Generosity,b2018_Generosity,r2018_Generosity,p2018_Generosity,s2018_Generosity = LR(data2018[\"Generosity\"],data2019[\"Happiness Score\"]) \n",
    "X2018_GDP = np.array(data2018[\"GDP Per Capita\"])\n",
    "X2018_Family = np.array(data2018[\"Family\"])\n",
    "X2018_HLE = np.array(data2018[\"HLE\"])\n",
    "X2018_Freedom = np.array(data2018[\"Freedom\"])\n",
    "X2018_Trust = np.array(data2018[\"Trust\"])\n",
    "X2018_Gen = np.array(data2018[\"Generosity\"])\n",
    "Y2018 = np.array(data2018[\"Happiness Score\"])\n",
    "display(Markdown(\"# Columns vs Happiness Score in 2018\"))\n",
    "fig, axs = plt.subplots(6,figsize=(5,15),sharex=True)\n",
    "xline2018_GDP=np.linspace(min(X2018_GDP),max(X2018_GDP),100)\n",
    "yline2018_GDP=m2018_GDP*xline2018_GDP+b2018_GDP\n",
    "axs[0].plot(xline2018_GDP,yline2018_GDP,color=\"red\")\n",
    "xline2018_Family=np.linspace(min(X2018_Family),max(X2018_Family),100)\n",
    "yline2018_Family=m2018_Family*xline2018_Family+b2018_Family\n",
    "axs[1].plot(xline2018_Family,yline2018_Family,color=\"red\")\n",
    "xline2018_HLE=np.linspace(min(X2018_HLE),max(X2018_HLE),100)\n",
    "yline2018_HLE=m2018_HLE*xline2018_HLE+b2018_HLE\n",
    "axs[2].plot(xline2018_HLE,yline2018_HLE,color=\"red\")\n",
    "xline2018_Freedom=np.linspace(min(X2018_Freedom),max(X2018_Freedom),100)\n",
    "yline2018_Freedom=m2018_Freedom*xline2018_Freedom+b2018_Freedom\n",
    "axs[3].plot(xline2018_Freedom,yline2018_Freedom,color=\"red\")\n",
    "xline2018_Trust=np.linspace(min(X2018_Trust),max(X2018_Trust),100)\n",
    "yline2018_Trust=m2018_Trust*xline2018_Trust+b2018_Trust\n",
    "axs[4].plot(xline2018_Trust,yline2018_Trust,color=\"red\")\n",
    "xline2018_Gen=np.linspace(min(X2018_Gen),max(X2018_Gen),100)\n",
    "yline2018_Gen=m2018_Generosity*xline2018_Gen+b2018_Generosity\n",
    "axs[5].plot(xline2018_Gen,yline2018_Gen,color=\"red\")\n",
    "axs[0].scatter(X2018_GDP, Y2018)\n",
    "axs[1].scatter(X2018_Family, Y2018)\n",
    "axs[2].scatter(X2018_HLE, Y2018)\n",
    "axs[3].scatter(X2018_Freedom, Y2018)\n",
    "axs[4].scatter(X2018_Trust, Y2018)\n",
    "axs[5].scatter(X2018_Gen, Y2018)\n",
    "axs[0].set_xlabel('GDP')\n",
    "axs[1].set_xlabel('Family')\n",
    "axs[2].set_xlabel('HLE')\n",
    "axs[3].set_xlabel('Freedom')\n",
    "axs[4].set_xlabel('Trust')\n",
    "axs[5].set_xlabel('Generosity')\n",
    "for ax in axs.flat:\n",
    "    ax.set(ylabel='Happiness Score')\n",
    "plt.show()"
   ]
  },
  {
   "cell_type": "code",
   "execution_count": null,
   "id": "68c98bc6",
   "metadata": {},
   "outputs": [],
   "source": [
    "m2019_GDP,b2019_GDP,r2019_GDP,p2019_GDP,s2019_GDP = LR(data2019[\"GDP Per Capita\"],data2019[\"Happiness Score\"])\n",
    "m2019_Family,b2019_Family,r2019_Family,p2019_Family,s2019_Family = LR(data2019[\"Family\"],data2019[\"Happiness Score\"])\n",
    "m2019_HLE,b2019_HLE,r2019_HLE,p2019_HLE,s2019_HLE = LR(data2019[\"HLE\"],data2019[\"Happiness Score\"])\n",
    "m2019_Freedom,b2019_Freedom,r2019_Freedom,p2019_Freedom,s2019_Freedom = LR(data2019[\"Freedom\"],data2019[\"Happiness Score\"])\n",
    "m2019_Trust,b2019_Trust,r2019_Trust,p2019_Trust,s2019_Trust = LR(data2019[\"Trust\"],data2019[\"Happiness Score\"])\n",
    "m2019_Generosity,b2019_Generosity,r2019_Generosity,p2019_Generosity,s2019_Generosity = LR(data2019[\"Generosity\"],data2019[\"Happiness Score\"]) \n",
    "X2019_GDP = np.array(data2019[\"GDP Per Capita\"])\n",
    "X2019_Family = np.array(data2019[\"Family\"])\n",
    "X2019_HLE = np.array(data2019[\"HLE\"])\n",
    "X2019_Freedom = np.array(data2019[\"Freedom\"])\n",
    "X2019_Trust = np.array(data2019[\"Trust\"])\n",
    "X2019_Gen = np.array(data2019[\"Generosity\"])\n",
    "Y2019 = np.array(data2019[\"Happiness Score\"])\n",
    "display(Markdown(\"# Columns vs Happiness Score in 2019\"))\n",
    "fig, axs = plt.subplots(6,figsize=(5,15),sharex=True)\n",
    "xline2019_GDP=np.linspace(min(X2019_GDP),max(X2019_GDP),100)\n",
    "yline2019_GDP=m2019_GDP*xline2019_GDP+b2019_GDP\n",
    "axs[0].plot(xline2019_GDP,yline2019_GDP,color=\"red\")\n",
    "xline2019_Family=np.linspace(min(X2019_Family),max(X2019_Family),100)\n",
    "yline2019_Family=m2019_Family*xline2019_Family+b2019_Family\n",
    "axs[1].plot(xline2019_Family,yline2019_Family,color=\"red\")\n",
    "xline2019_HLE=np.linspace(min(X2019_HLE),max(X2019_HLE),100)\n",
    "yline2019_HLE=m2019_HLE*xline2019_HLE+b2019_HLE\n",
    "axs[2].plot(xline2019_HLE,yline2019_HLE,color=\"red\")\n",
    "xline2019_Freedom=np.linspace(min(X2019_Freedom),max(X2019_Freedom),100)\n",
    "yline2019_Freedom=m2019_Freedom*xline2019_Freedom+b2019_Freedom\n",
    "axs[3].plot(xline2019_Freedom,yline2019_Freedom,color=\"red\")\n",
    "xline2019_Trust=np.linspace(min(X2019_Trust),max(X2019_Trust),100)\n",
    "yline2019_Trust=m2019_Trust*xline2019_Trust+b2019_Trust\n",
    "axs[4].plot(xline2019_Trust,yline2019_Trust,color=\"red\")\n",
    "xline2019_Gen=np.linspace(min(X2019_Gen),max(X2019_Gen),100)\n",
    "yline2019_Gen=m2019_Generosity*xline2019_Gen+b2019_Generosity\n",
    "axs[5].plot(xline2019_Gen,yline2019_Gen,color=\"red\")\n",
    "axs[0].scatter(X2019_GDP, Y2019)\n",
    "axs[1].scatter(X2019_Family, Y2019)\n",
    "axs[2].scatter(X2019_HLE, Y2019)\n",
    "axs[3].scatter(X2019_Freedom, Y2019)\n",
    "axs[4].scatter(X2019_Trust, Y2019)\n",
    "axs[5].scatter(X2019_Gen, Y2019)\n",
    "axs[0].set_xlabel('GDP')\n",
    "axs[1].set_xlabel('Family')\n",
    "axs[2].set_xlabel('HLE')\n",
    "axs[3].set_xlabel('Freedom')\n",
    "axs[4].set_xlabel('Trust')\n",
    "axs[5].set_xlabel('Generosity')\n",
    "for ax in axs.flat:\n",
    "    ax.set(ylabel='Happiness Score')\n",
    "plt.show()"
   ]
  },
  {
   "cell_type": "code",
   "execution_count": 634,
   "id": "548a40c2",
   "metadata": {},
   "outputs": [],
   "source": [
    "X=np.array(data2015[['GDP Per Capita','Family','Trust','Generosity','HLE','Freedom']])\n",
    "Y=np.array(data2015[\"Happiness Score\"]).reshape(-1,1)"
   ]
  },
  {
   "cell_type": "code",
   "execution_count": 635,
   "id": "e5d9d9f6",
   "metadata": {},
   "outputs": [],
   "source": [
    "from sklearn.model_selection import train_test_split\n",
    "XTRAIN, XTEST, YTRAIN, YTEST = train_test_split(X,Y,shuffle = True)"
   ]
  },
  {
   "cell_type": "code",
   "execution_count": 636,
   "id": "6797c012",
   "metadata": {},
   "outputs": [],
   "source": [
    "from sklearn.linear_model import LinearRegression\n",
    "LR=LinearRegression()\n",
    "reg=LR.fit(XTRAIN,YTRAIN)"
   ]
  },
  {
   "cell_type": "code",
   "execution_count": 637,
   "id": "249be48a",
   "metadata": {},
   "outputs": [
    {
     "name": "stdout",
     "output_type": "stream",
     "text": [
      "Rˆ2= 0.7993969615881789  MSE= 0.23206280633891233\n"
     ]
    }
   ],
   "source": [
    "from sklearn.metrics import mean_squared_error, r2_score\n",
    "YP=reg.predict(XTEST)\n",
    "R2=r2_score(YTEST,YP)\n",
    "MSE = mean_squared_error(YTEST,YP)\n",
    "print(\"Rˆ2=\",R2,\" MSE=\",MSE)"
   ]
  },
  {
   "cell_type": "code",
   "execution_count": 638,
   "id": "dd0511af",
   "metadata": {},
   "outputs": [],
   "source": [
    "r2s=[]\n",
    "MSES=[]\n",
    "models=2000\n",
    "for j in range(models):\n",
    "    # Create Model\n",
    "    XTRAIN, XTEST, YTRAIN, YTEST = train_test_split(X,Y)\n",
    "    LR=LinearRegression()\n",
    "    reg=LR.fit(XTRAIN,YTRAIN)\n",
    "    \n",
    "    # Make a prediction\n",
    "    YP=reg.predict(XTEST)\n",
    "    \n",
    "    # Evaluate: R^2 and MSE \n",
    "    R2=r2_score(YTEST,YP)\n",
    "    MSE = mean_squared_error(YTEST,YP)\n",
    "    r2s.append(R2)\n",
    "    MSES.append(MSE)\n"
   ]
  },
  {
   "cell_type": "code",
   "execution_count": 639,
   "id": "be805a12",
   "metadata": {},
   "outputs": [
    {
     "data": {
      "image/png": "[encoded data removed]",
      "text/plain": [
       "<Figure size 720x288 with 2 Axes>"
      ]
     },
     "metadata": {
      "needs_background": "light"
     },
     "output_type": "display_data"
    }
   ],
   "source": [
    "# Create a 2x1 grid of plots\n",
    "fig,ax=plt.subplots(nrows=1,ncols=2)\n",
    "\n",
    "# Left plot\n",
    "ax[0].hist(r2s,color=\"pink\",edgecolor=\"black\",\n",
    "           bins=np.linspace(0,1,11))\n",
    "ax[0].tick_params(labelsize=16)\n",
    "ax[0].set_title(\"$R^2$ coefficient\", fontsize=20)\n",
    "ax[0].set_xlim(0,1)\n",
    "\n",
    "# Right plot\n",
    "ax[1].hist(MSES,color=\"lightblue\",edgecolor=\"black\")\n",
    "ax[1].tick_params(labelsize=16)\n",
    "ax[1].set_title(\"Mean Square Error\", fontsize=20)\n",
    "\n",
    "# Resize and save\n",
    "fig.set_size_inches(10,4)\n",
    "#fig.savefig(\"Machine-Performance-Evaluation.jpg\")"
   ]
  },
  {
   "cell_type": "code",
   "execution_count": 640,
   "id": "cdfcba0c",
   "metadata": {},
   "outputs": [
    {
     "data": {
      "image/png": "[encoded data removed]",
      "text/plain": [
       "<Figure size 720x360 with 1 Axes>"
      ]
     },
     "metadata": {
      "needs_background": "light"
     },
     "output_type": "display_data"
    }
   ],
   "source": [
    "import numpy as np\n",
    "trust=np.array(data2015[\"Trust\"])\n",
    "score=np.array(data2015[\"Happiness Score\"])\n",
    "plt.scatter(trust,score)\n",
    "plt.xlabel(\"Trust\", fontsize=18)\n",
    "plt.ylabel(\"Happiness Score\", fontsize=18)\n",
    "plt.title(\"\",\n",
    "          fontsize=18)\n",
    "plt.tick_params(labelsize=16)\n",
    "plt.grid()\n",
    "plt.gcf().set_size_inches(10,5)\n",
    "#plt.gcf().savefig(\"Early-Covid-LA.jpg\")"
   ]
  },
  {
   "cell_type": "code",
   "execution_count": 641,
   "id": "85cb2b03",
   "metadata": {},
   "outputs": [],
   "source": [
    "from scipy.optimize import curve_fit\n",
    "def flog(x,a=1,k=1,x0=1):\n",
    "    return a/(1+np.exp(-k*(x-x0)))"
   ]
  },
  {
   "cell_type": "code",
   "execution_count": 642,
   "id": "cb9a33d3",
   "metadata": {},
   "outputs": [
    {
     "name": "stdout",
     "output_type": "stream",
     "text": [
      "a = 44.517628697959964\n",
      "k = 1.0139838767235887\n",
      "x0= 2.09013065914384\n"
     ]
    }
   ],
   "source": [
    "parameters,covmatrix=curve_fit(flog,trust,score,p0=(50,.1,.1))\n",
    "afit,kfit,x0fit=parameters\n",
    "print(\"a =\",afit)\n",
    "print(\"k =\",kfit)\n",
    "print(\"x0=\",x0fit)"
   ]
  },
  {
   "cell_type": "code",
   "execution_count": 643,
   "id": "367b68a7",
   "metadata": {},
   "outputs": [
    {
     "data": {
      "image/png": "[encoded data removed]",
      "text/plain": [
       "<Figure size 720x360 with 1 Axes>"
      ]
     },
     "metadata": {
      "needs_background": "light"
     },
     "output_type": "display_data"
    }
   ],
   "source": [
    "xline=np.linspace(min(trust),max(trust),100)\n",
    "plt.plot(xline,flog(xline,*parameters))\n",
    "plt.scatter(trust,score)\n",
    "plt.xlabel(\"Days into Pandemic\", fontsize=18)\n",
    "plt.ylabel(\"New Deaths Reported\", fontsize=18)\n",
    "plt.title(\"Early COVID-19 Mortality in Los Angeles\",\n",
    "          fontsize=18)\n",
    "plt.tick_params(labelsize=16)\n",
    "plt.grid()\n",
    "plt.gcf().set_size_inches(10,5)\n",
    "#plt.gcf().savefig(\"Early-Covid-LA.jpg\")"
   ]
  },
  {
   "cell_type": "code",
   "execution_count": 644,
   "id": "0b93c9b2",
   "metadata": {},
   "outputs": [
    {
     "data": {
      "image/png": "[encoded data removed]",
      "text/plain": [
       "<Figure size 720x1440 with 3 Axes>"
      ]
     },
     "metadata": {
      "needs_background": "light"
     },
     "output_type": "display_data"
    }
   ],
   "source": [
    "fig,(axa, axk, axx0)=plt.subplots(nrows=3, ncols=1, sharex=True)\n",
    "#axx0.plot(xline, flog(xline,a, k, x0-2*sx0), color=\"black\")\n",
    "trust=np.array(data2015[\"Trust\"])\n",
    "score=np.array(data2015[\"Happiness Score\"])\n",
    "axx0.plot(trust,score,'*')\n",
    "plt.xlabel(\"Trust\", fontsize=18)\n",
    "plt.ylabel(\"Happiness Score\", fontsize=18)\n",
    "plt.title(\"Trust vs Happiness Score (2015)\",\n",
    "          fontsize=18)\n",
    "plt.tick_params(labelsize=16)\n",
    "plt.grid()\n",
    "plt.gcf().set_size_inches(10,20)"
   ]
  },
  {
   "cell_type": "code",
   "execution_count": null,
   "id": "cbbe1056",
   "metadata": {},
   "outputs": [],
   "source": []
  }
 ],
 "metadata": {
  "kernelspec": {
   "display_name": "Python 3 (ipykernel)",
   "language": "python",
   "name": "python3"
  },
  "language_info": {
   "codemirror_mode": {
    "name": "ipython",
    "version": 3
   },
   "file_extension": ".py",
   "mimetype": "text/x-python",
   "name": "python",
   "nbconvert_exporter": "python",
   "pygments_lexer": "ipython3",
   "version": "3.9.12"
  }
 },
 "nbformat": 4,
 "nbformat_minor": 5
}
